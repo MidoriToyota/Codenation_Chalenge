{
 "cells": [
  {
   "cell_type": "markdown",
   "metadata": {},
   "source": [
    "# **Codenation Challenge - Prevendo notas do Enem**\n",
    "---\n",
    "\n",
    "<a href=\"https://midoritoyota.netlify.app/\" target=\"_blank\"><img align=\"left\" src=\"portfolio.png\" title=\"See my portfolio!\"/></a><img align=\"left\" src=\"espaco.png\"/>\n",
    "\n",
    "<a href=\"mailto:midori.toyota@gmail.com\" target=\"_blank\"><img align=\"left\" src=\"gmail.png\" title=\"Contact me!\"/></a><img align=\"left\" src=\"espaco.png\"/>\n",
    "\n",
    "<a href=\"https://www.linkedin.com/in/midoritoyota/\" target=\"_blank\"> <img align=\"left\" src=\"linkedin.png\" title=\"Add me on linkedin!\" /></a><img align=\"left\" src=\"espaco.png\"/>\n",
    "\n",
    "<a href=\"https://github.com/MidoriToyota\" target=\"_blank\"> <img align=\"left\" src=\"github.png\" title=\"Follow me on github!\"/></a>\n",
    "\n",
    "<br/><br/>"
   ]
  },
  {
   "cell_type": "markdown",
   "metadata": {},
   "source": [
    "## **Definição do problema**\n",
    "\n",
    "Você deverá criar um modelo para prever a nota da prova de matemática de quem participou do ENEM 2016.\n",
    "\n",
    "O contexto do desafio gira em torno dos resultados do ENEM 2016 (disponíveis no arquivo train.csv). Este arquivo, e apenas ele, deve ser utilizado para todos os desafios. Qualquer dúvida a respeito das colunas, consulte o Dicionário dos Microdados do Enem 2016.\n",
    "\n",
    "Muitas universidades brasileiras utilizam o ENEM para selecionar seus futuros alunos e alunas. Isto é feito com uma média ponderada das notas das provas de matemática, ciências da natureza, linguagens e códigos, ciências humanas e redação, com os pesos abaixo:\n",
    "\n",
    "- matemática: 3\n",
    "- ciências da natureza: 2\n",
    "- linguagens e códigos: 1.5\n",
    "- ciências humanas: 1\n",
    "- redação: 3\n",
    "\n",
    "No arquivo test.csv crie um modelo para prever nota da prova de matemática (coluna NU_NOTA_MT) de quem participou do ENEM 2016. Salve sua resposta em um arquivo chamado answer.csv com duas colunas: NU_INSCRICAO e NU_NOTA_MT.\n",
    "\n",
    "Qualquer dúvida a respeito das colunas, consulte o Dicionário dos Microdados do Enem 2016.\n",
    "\n",
    "## **Análise exploratória**\n",
    "\n",
    "### **Pacotes e dados**"
   ]
  },
  {
   "cell_type": "code",
   "execution_count": null,
   "metadata": {},
   "outputs": [],
   "source": [
    "# Pacotes\n",
    "library(corrplot) \n",
    "library(dplyr)\n",
    "library(sqldf)\n",
    "library(xgboost)\n",
    "library(methods)\n",
    "library(ggplot2)\n",
    "library(Metrics)\n",
    "library(repr)\n",
    "library(GGally) \n",
    "library(gridExtra)\n",
    "library(MASS)    \n",
    "library(rpart)\n",
    "library(rpart.plot)\n",
    "library(randomForest) \n",
    "library(xgboost)\n",
    "library(tibble)\n",
    "library(RColorBrewer)\n",
    "library(readr)"
   ]
  },
  {
   "cell_type": "code",
   "execution_count": 2,
   "metadata": {},
   "outputs": [
    {
     "data": {
      "text/html": [
       "<style>\n",
       ".list-inline {list-style: none; margin:0; padding: 0}\n",
       ".list-inline>li {display: inline-block}\n",
       ".list-inline>li:not(:last-child)::after {content: \"\\00b7\"; padding: 0 .5ex}\n",
       "</style>\n",
       "<ol class=list-inline><li>13730</li><li>167</li></ol>\n"
      ],
      "text/latex": [
       "\\begin{enumerate*}\n",
       "\\item 13730\n",
       "\\item 167\n",
       "\\end{enumerate*}\n"
      ],
      "text/markdown": [
       "1. 13730\n",
       "2. 167\n",
       "\n",
       "\n"
      ],
      "text/plain": [
       "[1] 13730   167"
      ]
     },
     "metadata": {},
     "output_type": "display_data"
    },
    {
     "data": {
      "text/html": [
       "<style>\n",
       ".list-inline {list-style: none; margin:0; padding: 0}\n",
       ".list-inline>li {display: inline-block}\n",
       ".list-inline>li:not(:last-child)::after {content: \"\\00b7\"; padding: 0 .5ex}\n",
       "</style>\n",
       "<ol class=list-inline><li>4576</li><li>47</li></ol>\n"
      ],
      "text/latex": [
       "\\begin{enumerate*}\n",
       "\\item 4576\n",
       "\\item 47\n",
       "\\end{enumerate*}\n"
      ],
      "text/markdown": [
       "1. 4576\n",
       "2. 47\n",
       "\n",
       "\n"
      ],
      "text/plain": [
       "[1] 4576   47"
      ]
     },
     "metadata": {},
     "output_type": "display_data"
    }
   ],
   "source": [
    "# Datasets\n",
    "train = read.csv(\"./data/train.csv\")\n",
    "test = read.csv(\"./data/test.csv\")\n",
    "dim(train)\n",
    "dim(test)"
   ]
  },
  {
   "cell_type": "code",
   "execution_count": 5,
   "metadata": {},
   "outputs": [
    {
     "data": {
      "text/html": [
       "<style>\n",
       ".list-inline {list-style: none; margin:0; padding: 0}\n",
       ".list-inline>li {display: inline-block}\n",
       ".list-inline>li:not(:last-child)::after {content: \"\\00b7\"; padding: 0 .5ex}\n",
       "</style>\n",
       "<ol class=list-inline><li>'X'</li><li>'NU_INSCRICAO'</li><li>'NU_ANO'</li><li>'CO_MUNICIPIO_RESIDENCIA'</li><li>'NO_MUNICIPIO_RESIDENCIA'</li><li>'CO_UF_RESIDENCIA'</li><li>'SG_UF_RESIDENCIA'</li><li>'NU_IDADE'</li><li>'TP_SEXO'</li><li>'TP_ESTADO_CIVIL'</li><li>'TP_COR_RACA'</li><li>'TP_NACIONALIDADE'</li><li>'CO_MUNICIPIO_NASCIMENTO'</li><li>'NO_MUNICIPIO_NASCIMENTO'</li><li>'CO_UF_NASCIMENTO'</li><li>'SG_UF_NASCIMENTO'</li><li>'TP_ST_CONCLUSAO'</li><li>'TP_ANO_CONCLUIU'</li><li>'TP_ESCOLA'</li><li>'TP_ENSINO'</li><li>'IN_TREINEIRO'</li><li>'CO_ESCOLA'</li><li>'CO_MUNICIPIO_ESC'</li><li>'NO_MUNICIPIO_ESC'</li><li>'CO_UF_ESC'</li><li>'SG_UF_ESC'</li><li>'TP_DEPENDENCIA_ADM_ESC'</li><li>'TP_LOCALIZACAO_ESC'</li><li>'TP_SIT_FUNC_ESC'</li><li>'IN_BAIXA_VISAO'</li><li>'IN_CEGUEIRA'</li><li>'IN_SURDEZ'</li><li>'IN_DEFICIENCIA_AUDITIVA'</li><li>'IN_SURDO_CEGUEIRA'</li><li>'IN_DEFICIENCIA_FISICA'</li><li>'IN_DEFICIENCIA_MENTAL'</li><li>'IN_DEFICIT_ATENCAO'</li><li>'IN_DISLEXIA'</li><li>'IN_DISCALCULIA'</li><li>'IN_AUTISMO'</li><li>'IN_VISAO_MONOCULAR'</li><li>'IN_OUTRA_DEF'</li><li>'IN_SABATISTA'</li><li>'IN_GESTANTE'</li><li>'IN_LACTANTE'</li><li>'IN_IDOSO'</li><li>'IN_ESTUDA_CLASSE_HOSPITALAR'</li><li>'IN_SEM_RECURSO'</li><li>'IN_BRAILLE'</li><li>'IN_AMPLIADA_24'</li><li>'IN_AMPLIADA_18'</li><li>'IN_LEDOR'</li><li>'IN_ACESSO'</li><li>'IN_TRANSCRICAO'</li><li>'IN_LIBRAS'</li><li>'IN_LEITURA_LABIAL'</li><li>'IN_MESA_CADEIRA_RODAS'</li><li>'IN_MESA_CADEIRA_SEPARADA'</li><li>'IN_APOIO_PERNA'</li><li>'IN_GUIA_INTERPRETE'</li><li>'IN_MACA'</li><li>'IN_COMPUTADOR'</li><li>'IN_CADEIRA_ESPECIAL'</li><li>'IN_CADEIRA_CANHOTO'</li><li>'IN_CADEIRA_ACOLCHOADA'</li><li>'IN_PROVA_DEITADO'</li><li>'IN_MOBILIARIO_OBESO'</li><li>'IN_LAMINA_OVERLAY'</li><li>'IN_PROTETOR_AURICULAR'</li><li>'IN_MEDIDOR_GLICOSE'</li><li>'IN_MAQUINA_BRAILE'</li><li>'IN_SOROBAN'</li><li>'IN_MARCA_PASSO'</li><li>'IN_SONDA'</li><li>'IN_MEDICAMENTOS'</li><li>'IN_SALA_INDIVIDUAL'</li><li>'IN_SALA_ESPECIAL'</li><li>'IN_SALA_ACOMPANHANTE'</li><li>'IN_MOBILIARIO_ESPECIFICO'</li><li>'IN_MATERIAL_ESPECIFICO'</li><li>'IN_NOME_SOCIAL'</li><li>'IN_CERTIFICADO'</li><li>'NO_ENTIDADE_CERTIFICACAO'</li><li>'CO_UF_ENTIDADE_CERTIFICACAO'</li><li>'SG_UF_ENTIDADE_CERTIFICACAO'</li><li>'CO_MUNICIPIO_PROVA'</li><li>'NO_MUNICIPIO_PROVA'</li><li>'CO_UF_PROVA'</li><li>'SG_UF_PROVA'</li><li>'TP_PRESENCA_CN'</li><li>'TP_PRESENCA_CH'</li><li>'TP_PRESENCA_LC'</li><li>'TP_PRESENCA_MT'</li><li>'CO_PROVA_CN'</li><li>'CO_PROVA_CH'</li><li>'CO_PROVA_LC'</li><li>'CO_PROVA_MT'</li><li>'NU_NOTA_CN'</li><li>'NU_NOTA_CH'</li><li>'NU_NOTA_LC'</li><li>'NU_NOTA_MT'</li><li>'TX_RESPOSTAS_CN'</li><li>'TX_RESPOSTAS_CH'</li><li>'TX_RESPOSTAS_LC'</li><li>'TX_RESPOSTAS_MT'</li><li>'TP_LINGUA'</li><li>'TX_GABARITO_CN'</li><li>'TX_GABARITO_CH'</li><li>'TX_GABARITO_LC'</li><li>'TX_GABARITO_MT'</li><li>'TP_STATUS_REDACAO'</li><li>'NU_NOTA_COMP1'</li><li>'NU_NOTA_COMP2'</li><li>'NU_NOTA_COMP3'</li><li>'NU_NOTA_COMP4'</li><li>'NU_NOTA_COMP5'</li><li>'NU_NOTA_REDACAO'</li><li>'Q001'</li><li>'Q002'</li><li>'Q003'</li><li>'Q004'</li><li>'Q005'</li><li>'Q006'</li><li>'Q007'</li><li>'Q008'</li><li>'Q009'</li><li>'Q010'</li><li>'Q011'</li><li>'Q012'</li><li>'Q013'</li><li>'Q014'</li><li>'Q015'</li><li>'Q016'</li><li>'Q017'</li><li>'Q018'</li><li>'Q019'</li><li>'Q020'</li><li>'Q021'</li><li>'Q022'</li><li>'Q023'</li><li>'Q024'</li><li>'Q025'</li><li>'Q026'</li><li>'Q027'</li><li>'Q028'</li><li>'Q029'</li><li>'Q030'</li><li>'Q031'</li><li>'Q032'</li><li>'Q033'</li><li>'Q034'</li><li>'Q035'</li><li>'Q036'</li><li>'Q037'</li><li>'Q038'</li><li>'Q039'</li><li>'Q040'</li><li>'Q041'</li><li>'Q042'</li><li>'Q043'</li><li>'Q044'</li><li>'Q045'</li><li>'Q046'</li><li>'Q047'</li><li>'Q048'</li><li>'Q049'</li><li>'Q050'</li></ol>\n"
      ],
      "text/latex": [
       "\\begin{enumerate*}\n",
       "\\item 'X'\n",
       "\\item 'NU\\_INSCRICAO'\n",
       "\\item 'NU\\_ANO'\n",
       "\\item 'CO\\_MUNICIPIO\\_RESIDENCIA'\n",
       "\\item 'NO\\_MUNICIPIO\\_RESIDENCIA'\n",
       "\\item 'CO\\_UF\\_RESIDENCIA'\n",
       "\\item 'SG\\_UF\\_RESIDENCIA'\n",
       "\\item 'NU\\_IDADE'\n",
       "\\item 'TP\\_SEXO'\n",
       "\\item 'TP\\_ESTADO\\_CIVIL'\n",
       "\\item 'TP\\_COR\\_RACA'\n",
       "\\item 'TP\\_NACIONALIDADE'\n",
       "\\item 'CO\\_MUNICIPIO\\_NASCIMENTO'\n",
       "\\item 'NO\\_MUNICIPIO\\_NASCIMENTO'\n",
       "\\item 'CO\\_UF\\_NASCIMENTO'\n",
       "\\item 'SG\\_UF\\_NASCIMENTO'\n",
       "\\item 'TP\\_ST\\_CONCLUSAO'\n",
       "\\item 'TP\\_ANO\\_CONCLUIU'\n",
       "\\item 'TP\\_ESCOLA'\n",
       "\\item 'TP\\_ENSINO'\n",
       "\\item 'IN\\_TREINEIRO'\n",
       "\\item 'CO\\_ESCOLA'\n",
       "\\item 'CO\\_MUNICIPIO\\_ESC'\n",
       "\\item 'NO\\_MUNICIPIO\\_ESC'\n",
       "\\item 'CO\\_UF\\_ESC'\n",
       "\\item 'SG\\_UF\\_ESC'\n",
       "\\item 'TP\\_DEPENDENCIA\\_ADM\\_ESC'\n",
       "\\item 'TP\\_LOCALIZACAO\\_ESC'\n",
       "\\item 'TP\\_SIT\\_FUNC\\_ESC'\n",
       "\\item 'IN\\_BAIXA\\_VISAO'\n",
       "\\item 'IN\\_CEGUEIRA'\n",
       "\\item 'IN\\_SURDEZ'\n",
       "\\item 'IN\\_DEFICIENCIA\\_AUDITIVA'\n",
       "\\item 'IN\\_SURDO\\_CEGUEIRA'\n",
       "\\item 'IN\\_DEFICIENCIA\\_FISICA'\n",
       "\\item 'IN\\_DEFICIENCIA\\_MENTAL'\n",
       "\\item 'IN\\_DEFICIT\\_ATENCAO'\n",
       "\\item 'IN\\_DISLEXIA'\n",
       "\\item 'IN\\_DISCALCULIA'\n",
       "\\item 'IN\\_AUTISMO'\n",
       "\\item 'IN\\_VISAO\\_MONOCULAR'\n",
       "\\item 'IN\\_OUTRA\\_DEF'\n",
       "\\item 'IN\\_SABATISTA'\n",
       "\\item 'IN\\_GESTANTE'\n",
       "\\item 'IN\\_LACTANTE'\n",
       "\\item 'IN\\_IDOSO'\n",
       "\\item 'IN\\_ESTUDA\\_CLASSE\\_HOSPITALAR'\n",
       "\\item 'IN\\_SEM\\_RECURSO'\n",
       "\\item 'IN\\_BRAILLE'\n",
       "\\item 'IN\\_AMPLIADA\\_24'\n",
       "\\item 'IN\\_AMPLIADA\\_18'\n",
       "\\item 'IN\\_LEDOR'\n",
       "\\item 'IN\\_ACESSO'\n",
       "\\item 'IN\\_TRANSCRICAO'\n",
       "\\item 'IN\\_LIBRAS'\n",
       "\\item 'IN\\_LEITURA\\_LABIAL'\n",
       "\\item 'IN\\_MESA\\_CADEIRA\\_RODAS'\n",
       "\\item 'IN\\_MESA\\_CADEIRA\\_SEPARADA'\n",
       "\\item 'IN\\_APOIO\\_PERNA'\n",
       "\\item 'IN\\_GUIA\\_INTERPRETE'\n",
       "\\item 'IN\\_MACA'\n",
       "\\item 'IN\\_COMPUTADOR'\n",
       "\\item 'IN\\_CADEIRA\\_ESPECIAL'\n",
       "\\item 'IN\\_CADEIRA\\_CANHOTO'\n",
       "\\item 'IN\\_CADEIRA\\_ACOLCHOADA'\n",
       "\\item 'IN\\_PROVA\\_DEITADO'\n",
       "\\item 'IN\\_MOBILIARIO\\_OBESO'\n",
       "\\item 'IN\\_LAMINA\\_OVERLAY'\n",
       "\\item 'IN\\_PROTETOR\\_AURICULAR'\n",
       "\\item 'IN\\_MEDIDOR\\_GLICOSE'\n",
       "\\item 'IN\\_MAQUINA\\_BRAILE'\n",
       "\\item 'IN\\_SOROBAN'\n",
       "\\item 'IN\\_MARCA\\_PASSO'\n",
       "\\item 'IN\\_SONDA'\n",
       "\\item 'IN\\_MEDICAMENTOS'\n",
       "\\item 'IN\\_SALA\\_INDIVIDUAL'\n",
       "\\item 'IN\\_SALA\\_ESPECIAL'\n",
       "\\item 'IN\\_SALA\\_ACOMPANHANTE'\n",
       "\\item 'IN\\_MOBILIARIO\\_ESPECIFICO'\n",
       "\\item 'IN\\_MATERIAL\\_ESPECIFICO'\n",
       "\\item 'IN\\_NOME\\_SOCIAL'\n",
       "\\item 'IN\\_CERTIFICADO'\n",
       "\\item 'NO\\_ENTIDADE\\_CERTIFICACAO'\n",
       "\\item 'CO\\_UF\\_ENTIDADE\\_CERTIFICACAO'\n",
       "\\item 'SG\\_UF\\_ENTIDADE\\_CERTIFICACAO'\n",
       "\\item 'CO\\_MUNICIPIO\\_PROVA'\n",
       "\\item 'NO\\_MUNICIPIO\\_PROVA'\n",
       "\\item 'CO\\_UF\\_PROVA'\n",
       "\\item 'SG\\_UF\\_PROVA'\n",
       "\\item 'TP\\_PRESENCA\\_CN'\n",
       "\\item 'TP\\_PRESENCA\\_CH'\n",
       "\\item 'TP\\_PRESENCA\\_LC'\n",
       "\\item 'TP\\_PRESENCA\\_MT'\n",
       "\\item 'CO\\_PROVA\\_CN'\n",
       "\\item 'CO\\_PROVA\\_CH'\n",
       "\\item 'CO\\_PROVA\\_LC'\n",
       "\\item 'CO\\_PROVA\\_MT'\n",
       "\\item 'NU\\_NOTA\\_CN'\n",
       "\\item 'NU\\_NOTA\\_CH'\n",
       "\\item 'NU\\_NOTA\\_LC'\n",
       "\\item 'NU\\_NOTA\\_MT'\n",
       "\\item 'TX\\_RESPOSTAS\\_CN'\n",
       "\\item 'TX\\_RESPOSTAS\\_CH'\n",
       "\\item 'TX\\_RESPOSTAS\\_LC'\n",
       "\\item 'TX\\_RESPOSTAS\\_MT'\n",
       "\\item 'TP\\_LINGUA'\n",
       "\\item 'TX\\_GABARITO\\_CN'\n",
       "\\item 'TX\\_GABARITO\\_CH'\n",
       "\\item 'TX\\_GABARITO\\_LC'\n",
       "\\item 'TX\\_GABARITO\\_MT'\n",
       "\\item 'TP\\_STATUS\\_REDACAO'\n",
       "\\item 'NU\\_NOTA\\_COMP1'\n",
       "\\item 'NU\\_NOTA\\_COMP2'\n",
       "\\item 'NU\\_NOTA\\_COMP3'\n",
       "\\item 'NU\\_NOTA\\_COMP4'\n",
       "\\item 'NU\\_NOTA\\_COMP5'\n",
       "\\item 'NU\\_NOTA\\_REDACAO'\n",
       "\\item 'Q001'\n",
       "\\item 'Q002'\n",
       "\\item 'Q003'\n",
       "\\item 'Q004'\n",
       "\\item 'Q005'\n",
       "\\item 'Q006'\n",
       "\\item 'Q007'\n",
       "\\item 'Q008'\n",
       "\\item 'Q009'\n",
       "\\item 'Q010'\n",
       "\\item 'Q011'\n",
       "\\item 'Q012'\n",
       "\\item 'Q013'\n",
       "\\item 'Q014'\n",
       "\\item 'Q015'\n",
       "\\item 'Q016'\n",
       "\\item 'Q017'\n",
       "\\item 'Q018'\n",
       "\\item 'Q019'\n",
       "\\item 'Q020'\n",
       "\\item 'Q021'\n",
       "\\item 'Q022'\n",
       "\\item 'Q023'\n",
       "\\item 'Q024'\n",
       "\\item 'Q025'\n",
       "\\item 'Q026'\n",
       "\\item 'Q027'\n",
       "\\item 'Q028'\n",
       "\\item 'Q029'\n",
       "\\item 'Q030'\n",
       "\\item 'Q031'\n",
       "\\item 'Q032'\n",
       "\\item 'Q033'\n",
       "\\item 'Q034'\n",
       "\\item 'Q035'\n",
       "\\item 'Q036'\n",
       "\\item 'Q037'\n",
       "\\item 'Q038'\n",
       "\\item 'Q039'\n",
       "\\item 'Q040'\n",
       "\\item 'Q041'\n",
       "\\item 'Q042'\n",
       "\\item 'Q043'\n",
       "\\item 'Q044'\n",
       "\\item 'Q045'\n",
       "\\item 'Q046'\n",
       "\\item 'Q047'\n",
       "\\item 'Q048'\n",
       "\\item 'Q049'\n",
       "\\item 'Q050'\n",
       "\\end{enumerate*}\n"
      ],
      "text/markdown": [
       "1. 'X'\n",
       "2. 'NU_INSCRICAO'\n",
       "3. 'NU_ANO'\n",
       "4. 'CO_MUNICIPIO_RESIDENCIA'\n",
       "5. 'NO_MUNICIPIO_RESIDENCIA'\n",
       "6. 'CO_UF_RESIDENCIA'\n",
       "7. 'SG_UF_RESIDENCIA'\n",
       "8. 'NU_IDADE'\n",
       "9. 'TP_SEXO'\n",
       "10. 'TP_ESTADO_CIVIL'\n",
       "11. 'TP_COR_RACA'\n",
       "12. 'TP_NACIONALIDADE'\n",
       "13. 'CO_MUNICIPIO_NASCIMENTO'\n",
       "14. 'NO_MUNICIPIO_NASCIMENTO'\n",
       "15. 'CO_UF_NASCIMENTO'\n",
       "16. 'SG_UF_NASCIMENTO'\n",
       "17. 'TP_ST_CONCLUSAO'\n",
       "18. 'TP_ANO_CONCLUIU'\n",
       "19. 'TP_ESCOLA'\n",
       "20. 'TP_ENSINO'\n",
       "21. 'IN_TREINEIRO'\n",
       "22. 'CO_ESCOLA'\n",
       "23. 'CO_MUNICIPIO_ESC'\n",
       "24. 'NO_MUNICIPIO_ESC'\n",
       "25. 'CO_UF_ESC'\n",
       "26. 'SG_UF_ESC'\n",
       "27. 'TP_DEPENDENCIA_ADM_ESC'\n",
       "28. 'TP_LOCALIZACAO_ESC'\n",
       "29. 'TP_SIT_FUNC_ESC'\n",
       "30. 'IN_BAIXA_VISAO'\n",
       "31. 'IN_CEGUEIRA'\n",
       "32. 'IN_SURDEZ'\n",
       "33. 'IN_DEFICIENCIA_AUDITIVA'\n",
       "34. 'IN_SURDO_CEGUEIRA'\n",
       "35. 'IN_DEFICIENCIA_FISICA'\n",
       "36. 'IN_DEFICIENCIA_MENTAL'\n",
       "37. 'IN_DEFICIT_ATENCAO'\n",
       "38. 'IN_DISLEXIA'\n",
       "39. 'IN_DISCALCULIA'\n",
       "40. 'IN_AUTISMO'\n",
       "41. 'IN_VISAO_MONOCULAR'\n",
       "42. 'IN_OUTRA_DEF'\n",
       "43. 'IN_SABATISTA'\n",
       "44. 'IN_GESTANTE'\n",
       "45. 'IN_LACTANTE'\n",
       "46. 'IN_IDOSO'\n",
       "47. 'IN_ESTUDA_CLASSE_HOSPITALAR'\n",
       "48. 'IN_SEM_RECURSO'\n",
       "49. 'IN_BRAILLE'\n",
       "50. 'IN_AMPLIADA_24'\n",
       "51. 'IN_AMPLIADA_18'\n",
       "52. 'IN_LEDOR'\n",
       "53. 'IN_ACESSO'\n",
       "54. 'IN_TRANSCRICAO'\n",
       "55. 'IN_LIBRAS'\n",
       "56. 'IN_LEITURA_LABIAL'\n",
       "57. 'IN_MESA_CADEIRA_RODAS'\n",
       "58. 'IN_MESA_CADEIRA_SEPARADA'\n",
       "59. 'IN_APOIO_PERNA'\n",
       "60. 'IN_GUIA_INTERPRETE'\n",
       "61. 'IN_MACA'\n",
       "62. 'IN_COMPUTADOR'\n",
       "63. 'IN_CADEIRA_ESPECIAL'\n",
       "64. 'IN_CADEIRA_CANHOTO'\n",
       "65. 'IN_CADEIRA_ACOLCHOADA'\n",
       "66. 'IN_PROVA_DEITADO'\n",
       "67. 'IN_MOBILIARIO_OBESO'\n",
       "68. 'IN_LAMINA_OVERLAY'\n",
       "69. 'IN_PROTETOR_AURICULAR'\n",
       "70. 'IN_MEDIDOR_GLICOSE'\n",
       "71. 'IN_MAQUINA_BRAILE'\n",
       "72. 'IN_SOROBAN'\n",
       "73. 'IN_MARCA_PASSO'\n",
       "74. 'IN_SONDA'\n",
       "75. 'IN_MEDICAMENTOS'\n",
       "76. 'IN_SALA_INDIVIDUAL'\n",
       "77. 'IN_SALA_ESPECIAL'\n",
       "78. 'IN_SALA_ACOMPANHANTE'\n",
       "79. 'IN_MOBILIARIO_ESPECIFICO'\n",
       "80. 'IN_MATERIAL_ESPECIFICO'\n",
       "81. 'IN_NOME_SOCIAL'\n",
       "82. 'IN_CERTIFICADO'\n",
       "83. 'NO_ENTIDADE_CERTIFICACAO'\n",
       "84. 'CO_UF_ENTIDADE_CERTIFICACAO'\n",
       "85. 'SG_UF_ENTIDADE_CERTIFICACAO'\n",
       "86. 'CO_MUNICIPIO_PROVA'\n",
       "87. 'NO_MUNICIPIO_PROVA'\n",
       "88. 'CO_UF_PROVA'\n",
       "89. 'SG_UF_PROVA'\n",
       "90. 'TP_PRESENCA_CN'\n",
       "91. 'TP_PRESENCA_CH'\n",
       "92. 'TP_PRESENCA_LC'\n",
       "93. 'TP_PRESENCA_MT'\n",
       "94. 'CO_PROVA_CN'\n",
       "95. 'CO_PROVA_CH'\n",
       "96. 'CO_PROVA_LC'\n",
       "97. 'CO_PROVA_MT'\n",
       "98. 'NU_NOTA_CN'\n",
       "99. 'NU_NOTA_CH'\n",
       "100. 'NU_NOTA_LC'\n",
       "101. 'NU_NOTA_MT'\n",
       "102. 'TX_RESPOSTAS_CN'\n",
       "103. 'TX_RESPOSTAS_CH'\n",
       "104. 'TX_RESPOSTAS_LC'\n",
       "105. 'TX_RESPOSTAS_MT'\n",
       "106. 'TP_LINGUA'\n",
       "107. 'TX_GABARITO_CN'\n",
       "108. 'TX_GABARITO_CH'\n",
       "109. 'TX_GABARITO_LC'\n",
       "110. 'TX_GABARITO_MT'\n",
       "111. 'TP_STATUS_REDACAO'\n",
       "112. 'NU_NOTA_COMP1'\n",
       "113. 'NU_NOTA_COMP2'\n",
       "114. 'NU_NOTA_COMP3'\n",
       "115. 'NU_NOTA_COMP4'\n",
       "116. 'NU_NOTA_COMP5'\n",
       "117. 'NU_NOTA_REDACAO'\n",
       "118. 'Q001'\n",
       "119. 'Q002'\n",
       "120. 'Q003'\n",
       "121. 'Q004'\n",
       "122. 'Q005'\n",
       "123. 'Q006'\n",
       "124. 'Q007'\n",
       "125. 'Q008'\n",
       "126. 'Q009'\n",
       "127. 'Q010'\n",
       "128. 'Q011'\n",
       "129. 'Q012'\n",
       "130. 'Q013'\n",
       "131. 'Q014'\n",
       "132. 'Q015'\n",
       "133. 'Q016'\n",
       "134. 'Q017'\n",
       "135. 'Q018'\n",
       "136. 'Q019'\n",
       "137. 'Q020'\n",
       "138. 'Q021'\n",
       "139. 'Q022'\n",
       "140. 'Q023'\n",
       "141. 'Q024'\n",
       "142. 'Q025'\n",
       "143. 'Q026'\n",
       "144. 'Q027'\n",
       "145. 'Q028'\n",
       "146. 'Q029'\n",
       "147. 'Q030'\n",
       "148. 'Q031'\n",
       "149. 'Q032'\n",
       "150. 'Q033'\n",
       "151. 'Q034'\n",
       "152. 'Q035'\n",
       "153. 'Q036'\n",
       "154. 'Q037'\n",
       "155. 'Q038'\n",
       "156. 'Q039'\n",
       "157. 'Q040'\n",
       "158. 'Q041'\n",
       "159. 'Q042'\n",
       "160. 'Q043'\n",
       "161. 'Q044'\n",
       "162. 'Q045'\n",
       "163. 'Q046'\n",
       "164. 'Q047'\n",
       "165. 'Q048'\n",
       "166. 'Q049'\n",
       "167. 'Q050'\n",
       "\n",
       "\n"
      ],
      "text/plain": [
       "  [1] \"X\"                           \"NU_INSCRICAO\"               \n",
       "  [3] \"NU_ANO\"                      \"CO_MUNICIPIO_RESIDENCIA\"    \n",
       "  [5] \"NO_MUNICIPIO_RESIDENCIA\"     \"CO_UF_RESIDENCIA\"           \n",
       "  [7] \"SG_UF_RESIDENCIA\"            \"NU_IDADE\"                   \n",
       "  [9] \"TP_SEXO\"                     \"TP_ESTADO_CIVIL\"            \n",
       " [11] \"TP_COR_RACA\"                 \"TP_NACIONALIDADE\"           \n",
       " [13] \"CO_MUNICIPIO_NASCIMENTO\"     \"NO_MUNICIPIO_NASCIMENTO\"    \n",
       " [15] \"CO_UF_NASCIMENTO\"            \"SG_UF_NASCIMENTO\"           \n",
       " [17] \"TP_ST_CONCLUSAO\"             \"TP_ANO_CONCLUIU\"            \n",
       " [19] \"TP_ESCOLA\"                   \"TP_ENSINO\"                  \n",
       " [21] \"IN_TREINEIRO\"                \"CO_ESCOLA\"                  \n",
       " [23] \"CO_MUNICIPIO_ESC\"            \"NO_MUNICIPIO_ESC\"           \n",
       " [25] \"CO_UF_ESC\"                   \"SG_UF_ESC\"                  \n",
       " [27] \"TP_DEPENDENCIA_ADM_ESC\"      \"TP_LOCALIZACAO_ESC\"         \n",
       " [29] \"TP_SIT_FUNC_ESC\"             \"IN_BAIXA_VISAO\"             \n",
       " [31] \"IN_CEGUEIRA\"                 \"IN_SURDEZ\"                  \n",
       " [33] \"IN_DEFICIENCIA_AUDITIVA\"     \"IN_SURDO_CEGUEIRA\"          \n",
       " [35] \"IN_DEFICIENCIA_FISICA\"       \"IN_DEFICIENCIA_MENTAL\"      \n",
       " [37] \"IN_DEFICIT_ATENCAO\"          \"IN_DISLEXIA\"                \n",
       " [39] \"IN_DISCALCULIA\"              \"IN_AUTISMO\"                 \n",
       " [41] \"IN_VISAO_MONOCULAR\"          \"IN_OUTRA_DEF\"               \n",
       " [43] \"IN_SABATISTA\"                \"IN_GESTANTE\"                \n",
       " [45] \"IN_LACTANTE\"                 \"IN_IDOSO\"                   \n",
       " [47] \"IN_ESTUDA_CLASSE_HOSPITALAR\" \"IN_SEM_RECURSO\"             \n",
       " [49] \"IN_BRAILLE\"                  \"IN_AMPLIADA_24\"             \n",
       " [51] \"IN_AMPLIADA_18\"              \"IN_LEDOR\"                   \n",
       " [53] \"IN_ACESSO\"                   \"IN_TRANSCRICAO\"             \n",
       " [55] \"IN_LIBRAS\"                   \"IN_LEITURA_LABIAL\"          \n",
       " [57] \"IN_MESA_CADEIRA_RODAS\"       \"IN_MESA_CADEIRA_SEPARADA\"   \n",
       " [59] \"IN_APOIO_PERNA\"              \"IN_GUIA_INTERPRETE\"         \n",
       " [61] \"IN_MACA\"                     \"IN_COMPUTADOR\"              \n",
       " [63] \"IN_CADEIRA_ESPECIAL\"         \"IN_CADEIRA_CANHOTO\"         \n",
       " [65] \"IN_CADEIRA_ACOLCHOADA\"       \"IN_PROVA_DEITADO\"           \n",
       " [67] \"IN_MOBILIARIO_OBESO\"         \"IN_LAMINA_OVERLAY\"          \n",
       " [69] \"IN_PROTETOR_AURICULAR\"       \"IN_MEDIDOR_GLICOSE\"         \n",
       " [71] \"IN_MAQUINA_BRAILE\"           \"IN_SOROBAN\"                 \n",
       " [73] \"IN_MARCA_PASSO\"              \"IN_SONDA\"                   \n",
       " [75] \"IN_MEDICAMENTOS\"             \"IN_SALA_INDIVIDUAL\"         \n",
       " [77] \"IN_SALA_ESPECIAL\"            \"IN_SALA_ACOMPANHANTE\"       \n",
       " [79] \"IN_MOBILIARIO_ESPECIFICO\"    \"IN_MATERIAL_ESPECIFICO\"     \n",
       " [81] \"IN_NOME_SOCIAL\"              \"IN_CERTIFICADO\"             \n",
       " [83] \"NO_ENTIDADE_CERTIFICACAO\"    \"CO_UF_ENTIDADE_CERTIFICACAO\"\n",
       " [85] \"SG_UF_ENTIDADE_CERTIFICACAO\" \"CO_MUNICIPIO_PROVA\"         \n",
       " [87] \"NO_MUNICIPIO_PROVA\"          \"CO_UF_PROVA\"                \n",
       " [89] \"SG_UF_PROVA\"                 \"TP_PRESENCA_CN\"             \n",
       " [91] \"TP_PRESENCA_CH\"              \"TP_PRESENCA_LC\"             \n",
       " [93] \"TP_PRESENCA_MT\"              \"CO_PROVA_CN\"                \n",
       " [95] \"CO_PROVA_CH\"                 \"CO_PROVA_LC\"                \n",
       " [97] \"CO_PROVA_MT\"                 \"NU_NOTA_CN\"                 \n",
       " [99] \"NU_NOTA_CH\"                  \"NU_NOTA_LC\"                 \n",
       "[101] \"NU_NOTA_MT\"                  \"TX_RESPOSTAS_CN\"            \n",
       "[103] \"TX_RESPOSTAS_CH\"             \"TX_RESPOSTAS_LC\"            \n",
       "[105] \"TX_RESPOSTAS_MT\"             \"TP_LINGUA\"                  \n",
       "[107] \"TX_GABARITO_CN\"              \"TX_GABARITO_CH\"             \n",
       "[109] \"TX_GABARITO_LC\"              \"TX_GABARITO_MT\"             \n",
       "[111] \"TP_STATUS_REDACAO\"           \"NU_NOTA_COMP1\"              \n",
       "[113] \"NU_NOTA_COMP2\"               \"NU_NOTA_COMP3\"              \n",
       "[115] \"NU_NOTA_COMP4\"               \"NU_NOTA_COMP5\"              \n",
       "[117] \"NU_NOTA_REDACAO\"             \"Q001\"                       \n",
       "[119] \"Q002\"                        \"Q003\"                       \n",
       "[121] \"Q004\"                        \"Q005\"                       \n",
       "[123] \"Q006\"                        \"Q007\"                       \n",
       "[125] \"Q008\"                        \"Q009\"                       \n",
       "[127] \"Q010\"                        \"Q011\"                       \n",
       "[129] \"Q012\"                        \"Q013\"                       \n",
       "[131] \"Q014\"                        \"Q015\"                       \n",
       "[133] \"Q016\"                        \"Q017\"                       \n",
       "[135] \"Q018\"                        \"Q019\"                       \n",
       "[137] \"Q020\"                        \"Q021\"                       \n",
       "[139] \"Q022\"                        \"Q023\"                       \n",
       "[141] \"Q024\"                        \"Q025\"                       \n",
       "[143] \"Q026\"                        \"Q027\"                       \n",
       "[145] \"Q028\"                        \"Q029\"                       \n",
       "[147] \"Q030\"                        \"Q031\"                       \n",
       "[149] \"Q032\"                        \"Q033\"                       \n",
       "[151] \"Q034\"                        \"Q035\"                       \n",
       "[153] \"Q036\"                        \"Q037\"                       \n",
       "[155] \"Q038\"                        \"Q039\"                       \n",
       "[157] \"Q040\"                        \"Q041\"                       \n",
       "[159] \"Q042\"                        \"Q043\"                       \n",
       "[161] \"Q044\"                        \"Q045\"                       \n",
       "[163] \"Q046\"                        \"Q047\"                       \n",
       "[165] \"Q048\"                        \"Q049\"                       \n",
       "[167] \"Q050\"                       "
      ]
     },
     "metadata": {},
     "output_type": "display_data"
    }
   ],
   "source": [
    "# Nomes das variáveis (colunas) - treino\n",
    "colnames(train)"
   ]
  },
  {
   "cell_type": "code",
   "execution_count": 3,
   "metadata": {},
   "outputs": [
    {
     "data": {
      "text/html": [
       "<style>\n",
       ".list-inline {list-style: none; margin:0; padding: 0}\n",
       ".list-inline>li {display: inline-block}\n",
       ".list-inline>li:not(:last-child)::after {content: \"\\00b7\"; padding: 0 .5ex}\n",
       "</style>\n",
       "<ol class=list-inline><li>'NU_INSCRICAO'</li><li>'CO_UF_RESIDENCIA'</li><li>'SG_UF_RESIDENCIA'</li><li>'NU_IDADE'</li><li>'TP_SEXO'</li><li>'TP_COR_RACA'</li><li>'TP_NACIONALIDADE'</li><li>'TP_ST_CONCLUSAO'</li><li>'TP_ANO_CONCLUIU'</li><li>'TP_ESCOLA'</li><li>'TP_ENSINO'</li><li>'IN_TREINEIRO'</li><li>'TP_DEPENDENCIA_ADM_ESC'</li><li>'IN_BAIXA_VISAO'</li><li>'IN_CEGUEIRA'</li><li>'IN_SURDEZ'</li><li>'IN_DISLEXIA'</li><li>'IN_DISCALCULIA'</li><li>'IN_SABATISTA'</li><li>'IN_GESTANTE'</li><li>'IN_IDOSO'</li><li>'TP_PRESENCA_CN'</li><li>'TP_PRESENCA_CH'</li><li>'TP_PRESENCA_LC'</li><li>'CO_PROVA_CN'</li><li>'CO_PROVA_CH'</li><li>'CO_PROVA_LC'</li><li>'CO_PROVA_MT'</li><li>'NU_NOTA_CN'</li><li>'NU_NOTA_CH'</li><li>'NU_NOTA_LC'</li><li>'TP_LINGUA'</li><li>'TP_STATUS_REDACAO'</li><li>'NU_NOTA_COMP1'</li><li>'NU_NOTA_COMP2'</li><li>'NU_NOTA_COMP3'</li><li>'NU_NOTA_COMP4'</li><li>'NU_NOTA_COMP5'</li><li>'NU_NOTA_REDACAO'</li><li>'Q001'</li><li>'Q002'</li><li>'Q006'</li><li>'Q024'</li><li>'Q025'</li><li>'Q026'</li><li>'Q027'</li><li>'Q047'</li></ol>\n"
      ],
      "text/latex": [
       "\\begin{enumerate*}\n",
       "\\item 'NU\\_INSCRICAO'\n",
       "\\item 'CO\\_UF\\_RESIDENCIA'\n",
       "\\item 'SG\\_UF\\_RESIDENCIA'\n",
       "\\item 'NU\\_IDADE'\n",
       "\\item 'TP\\_SEXO'\n",
       "\\item 'TP\\_COR\\_RACA'\n",
       "\\item 'TP\\_NACIONALIDADE'\n",
       "\\item 'TP\\_ST\\_CONCLUSAO'\n",
       "\\item 'TP\\_ANO\\_CONCLUIU'\n",
       "\\item 'TP\\_ESCOLA'\n",
       "\\item 'TP\\_ENSINO'\n",
       "\\item 'IN\\_TREINEIRO'\n",
       "\\item 'TP\\_DEPENDENCIA\\_ADM\\_ESC'\n",
       "\\item 'IN\\_BAIXA\\_VISAO'\n",
       "\\item 'IN\\_CEGUEIRA'\n",
       "\\item 'IN\\_SURDEZ'\n",
       "\\item 'IN\\_DISLEXIA'\n",
       "\\item 'IN\\_DISCALCULIA'\n",
       "\\item 'IN\\_SABATISTA'\n",
       "\\item 'IN\\_GESTANTE'\n",
       "\\item 'IN\\_IDOSO'\n",
       "\\item 'TP\\_PRESENCA\\_CN'\n",
       "\\item 'TP\\_PRESENCA\\_CH'\n",
       "\\item 'TP\\_PRESENCA\\_LC'\n",
       "\\item 'CO\\_PROVA\\_CN'\n",
       "\\item 'CO\\_PROVA\\_CH'\n",
       "\\item 'CO\\_PROVA\\_LC'\n",
       "\\item 'CO\\_PROVA\\_MT'\n",
       "\\item 'NU\\_NOTA\\_CN'\n",
       "\\item 'NU\\_NOTA\\_CH'\n",
       "\\item 'NU\\_NOTA\\_LC'\n",
       "\\item 'TP\\_LINGUA'\n",
       "\\item 'TP\\_STATUS\\_REDACAO'\n",
       "\\item 'NU\\_NOTA\\_COMP1'\n",
       "\\item 'NU\\_NOTA\\_COMP2'\n",
       "\\item 'NU\\_NOTA\\_COMP3'\n",
       "\\item 'NU\\_NOTA\\_COMP4'\n",
       "\\item 'NU\\_NOTA\\_COMP5'\n",
       "\\item 'NU\\_NOTA\\_REDACAO'\n",
       "\\item 'Q001'\n",
       "\\item 'Q002'\n",
       "\\item 'Q006'\n",
       "\\item 'Q024'\n",
       "\\item 'Q025'\n",
       "\\item 'Q026'\n",
       "\\item 'Q027'\n",
       "\\item 'Q047'\n",
       "\\end{enumerate*}\n"
      ],
      "text/markdown": [
       "1. 'NU_INSCRICAO'\n",
       "2. 'CO_UF_RESIDENCIA'\n",
       "3. 'SG_UF_RESIDENCIA'\n",
       "4. 'NU_IDADE'\n",
       "5. 'TP_SEXO'\n",
       "6. 'TP_COR_RACA'\n",
       "7. 'TP_NACIONALIDADE'\n",
       "8. 'TP_ST_CONCLUSAO'\n",
       "9. 'TP_ANO_CONCLUIU'\n",
       "10. 'TP_ESCOLA'\n",
       "11. 'TP_ENSINO'\n",
       "12. 'IN_TREINEIRO'\n",
       "13. 'TP_DEPENDENCIA_ADM_ESC'\n",
       "14. 'IN_BAIXA_VISAO'\n",
       "15. 'IN_CEGUEIRA'\n",
       "16. 'IN_SURDEZ'\n",
       "17. 'IN_DISLEXIA'\n",
       "18. 'IN_DISCALCULIA'\n",
       "19. 'IN_SABATISTA'\n",
       "20. 'IN_GESTANTE'\n",
       "21. 'IN_IDOSO'\n",
       "22. 'TP_PRESENCA_CN'\n",
       "23. 'TP_PRESENCA_CH'\n",
       "24. 'TP_PRESENCA_LC'\n",
       "25. 'CO_PROVA_CN'\n",
       "26. 'CO_PROVA_CH'\n",
       "27. 'CO_PROVA_LC'\n",
       "28. 'CO_PROVA_MT'\n",
       "29. 'NU_NOTA_CN'\n",
       "30. 'NU_NOTA_CH'\n",
       "31. 'NU_NOTA_LC'\n",
       "32. 'TP_LINGUA'\n",
       "33. 'TP_STATUS_REDACAO'\n",
       "34. 'NU_NOTA_COMP1'\n",
       "35. 'NU_NOTA_COMP2'\n",
       "36. 'NU_NOTA_COMP3'\n",
       "37. 'NU_NOTA_COMP4'\n",
       "38. 'NU_NOTA_COMP5'\n",
       "39. 'NU_NOTA_REDACAO'\n",
       "40. 'Q001'\n",
       "41. 'Q002'\n",
       "42. 'Q006'\n",
       "43. 'Q024'\n",
       "44. 'Q025'\n",
       "45. 'Q026'\n",
       "46. 'Q027'\n",
       "47. 'Q047'\n",
       "\n",
       "\n"
      ],
      "text/plain": [
       " [1] \"NU_INSCRICAO\"           \"CO_UF_RESIDENCIA\"       \"SG_UF_RESIDENCIA\"      \n",
       " [4] \"NU_IDADE\"               \"TP_SEXO\"                \"TP_COR_RACA\"           \n",
       " [7] \"TP_NACIONALIDADE\"       \"TP_ST_CONCLUSAO\"        \"TP_ANO_CONCLUIU\"       \n",
       "[10] \"TP_ESCOLA\"              \"TP_ENSINO\"              \"IN_TREINEIRO\"          \n",
       "[13] \"TP_DEPENDENCIA_ADM_ESC\" \"IN_BAIXA_VISAO\"         \"IN_CEGUEIRA\"           \n",
       "[16] \"IN_SURDEZ\"              \"IN_DISLEXIA\"            \"IN_DISCALCULIA\"        \n",
       "[19] \"IN_SABATISTA\"           \"IN_GESTANTE\"            \"IN_IDOSO\"              \n",
       "[22] \"TP_PRESENCA_CN\"         \"TP_PRESENCA_CH\"         \"TP_PRESENCA_LC\"        \n",
       "[25] \"CO_PROVA_CN\"            \"CO_PROVA_CH\"            \"CO_PROVA_LC\"           \n",
       "[28] \"CO_PROVA_MT\"            \"NU_NOTA_CN\"             \"NU_NOTA_CH\"            \n",
       "[31] \"NU_NOTA_LC\"             \"TP_LINGUA\"              \"TP_STATUS_REDACAO\"     \n",
       "[34] \"NU_NOTA_COMP1\"          \"NU_NOTA_COMP2\"          \"NU_NOTA_COMP3\"         \n",
       "[37] \"NU_NOTA_COMP4\"          \"NU_NOTA_COMP5\"          \"NU_NOTA_REDACAO\"       \n",
       "[40] \"Q001\"                   \"Q002\"                   \"Q006\"                  \n",
       "[43] \"Q024\"                   \"Q025\"                   \"Q026\"                  \n",
       "[46] \"Q027\"                   \"Q047\"                  "
      ]
     },
     "metadata": {},
     "output_type": "display_data"
    }
   ],
   "source": [
    "colnames(test)"
   ]
  },
  {
   "cell_type": "code",
   "execution_count": 4,
   "metadata": {},
   "outputs": [
    {
     "data": {
      "text/html": [
       "<table>\n",
       "<caption>A data.frame: 6 × 167</caption>\n",
       "<thead>\n",
       "\t<tr><th></th><th scope=col>X</th><th scope=col>NU_INSCRICAO</th><th scope=col>NU_ANO</th><th scope=col>CO_MUNICIPIO_RESIDENCIA</th><th scope=col>NO_MUNICIPIO_RESIDENCIA</th><th scope=col>CO_UF_RESIDENCIA</th><th scope=col>SG_UF_RESIDENCIA</th><th scope=col>NU_IDADE</th><th scope=col>TP_SEXO</th><th scope=col>TP_ESTADO_CIVIL</th><th scope=col>...</th><th scope=col>Q041</th><th scope=col>Q042</th><th scope=col>Q043</th><th scope=col>Q044</th><th scope=col>Q045</th><th scope=col>Q046</th><th scope=col>Q047</th><th scope=col>Q048</th><th scope=col>Q049</th><th scope=col>Q050</th></tr>\n",
       "\t<tr><th></th><th scope=col>&lt;int&gt;</th><th scope=col>&lt;fct&gt;</th><th scope=col>&lt;int&gt;</th><th scope=col>&lt;int&gt;</th><th scope=col>&lt;fct&gt;</th><th scope=col>&lt;int&gt;</th><th scope=col>&lt;fct&gt;</th><th scope=col>&lt;int&gt;</th><th scope=col>&lt;fct&gt;</th><th scope=col>&lt;int&gt;</th><th scope=col>...</th><th scope=col>&lt;int&gt;</th><th scope=col>&lt;fct&gt;</th><th scope=col>&lt;fct&gt;</th><th scope=col>&lt;fct&gt;</th><th scope=col>&lt;fct&gt;</th><th scope=col>&lt;fct&gt;</th><th scope=col>&lt;fct&gt;</th><th scope=col>&lt;fct&gt;</th><th scope=col>&lt;fct&gt;</th><th scope=col>&lt;fct&gt;</th></tr>\n",
       "</thead>\n",
       "<tbody>\n",
       "\t<tr><th scope=row>1</th><td>1</td><td>ed50e8aaa58e7a806c337585efee9ca41f1eb1ad</td><td>2016</td><td>4314902</td><td>Porto Alegre  </td><td>43</td><td>RS</td><td>24</td><td>M</td><td>0</td><td>...</td><td> 5</td><td>A</td><td>A</td><td>A</td><td>A</td><td>A</td><td>A</td><td>A</td><td>B</td><td>D</td></tr>\n",
       "\t<tr><th scope=row>2</th><td>2</td><td>2c3acac4b33ec2b195d77e7c04a2d75727fad723</td><td>2016</td><td>2304707</td><td>Granja        </td><td>23</td><td>CE</td><td>17</td><td>F</td><td>0</td><td>...</td><td>NA</td><td>A</td><td>A</td><td>C</td><td>A</td><td>B</td><td>A</td><td>A</td><td>C</td><td>A</td></tr>\n",
       "\t<tr><th scope=row>3</th><td>3</td><td>f4545f8ccb9ff5c8aad7d32951b3f251a26e6568</td><td>2016</td><td>2304400</td><td>Fortaleza     </td><td>23</td><td>CE</td><td>21</td><td>F</td><td>0</td><td>...</td><td>NA</td><td>A</td><td>A</td><td>A</td><td>A</td><td>C</td><td>A</td><td>A</td><td>B</td><td>A</td></tr>\n",
       "\t<tr><th scope=row>4</th><td>4</td><td>3d6ec248fef899c414e77f82d5c6d2bffbeaf7fe</td><td>2016</td><td>3304557</td><td>Rio de Janeiro</td><td>33</td><td>RJ</td><td>25</td><td>F</td><td>0</td><td>...</td><td> 5</td><td>C</td><td>A</td><td>A</td><td>A</td><td>A</td><td>D</td><td>A</td><td>A</td><td>A</td></tr>\n",
       "\t<tr><th scope=row>5</th><td>5</td><td>bf896ac8d3ecadd6dba1dfbf50110afcbf5d3268</td><td>2016</td><td>1302603</td><td>Manaus        </td><td>13</td><td>AM</td><td>28</td><td>M</td><td>0</td><td>...</td><td>NA</td><td>A</td><td>A</td><td>A</td><td>A</td><td>A</td><td>A</td><td>A</td><td>A</td><td>A</td></tr>\n",
       "\t<tr><th scope=row>6</th><td>6</td><td>a37c99ec251d4f6e8ddbeabadf1c87fdbfddc4d1</td><td>2016</td><td>2902005</td><td>Aracatu       </td><td>29</td><td>BA</td><td>18</td><td>F</td><td>0</td><td>...</td><td>NA</td><td>A</td><td>A</td><td>A</td><td>A</td><td>A</td><td>A</td><td>A</td><td>A</td><td>A</td></tr>\n",
       "</tbody>\n",
       "</table>\n"
      ],
      "text/latex": [
       "A data.frame: 6 × 167\n",
       "\\begin{tabular}{r|lllllllllllllllllllll}\n",
       "  & X & NU\\_INSCRICAO & NU\\_ANO & CO\\_MUNICIPIO\\_RESIDENCIA & NO\\_MUNICIPIO\\_RESIDENCIA & CO\\_UF\\_RESIDENCIA & SG\\_UF\\_RESIDENCIA & NU\\_IDADE & TP\\_SEXO & TP\\_ESTADO\\_CIVIL & ... & Q041 & Q042 & Q043 & Q044 & Q045 & Q046 & Q047 & Q048 & Q049 & Q050\\\\\n",
       "  & <int> & <fct> & <int> & <int> & <fct> & <int> & <fct> & <int> & <fct> & <int> & ... & <int> & <fct> & <fct> & <fct> & <fct> & <fct> & <fct> & <fct> & <fct> & <fct>\\\\\n",
       "\\hline\n",
       "\t1 & 1 & ed50e8aaa58e7a806c337585efee9ca41f1eb1ad & 2016 & 4314902 & Porto Alegre   & 43 & RS & 24 & M & 0 & ... &  5 & A & A & A & A & A & A & A & B & D\\\\\n",
       "\t2 & 2 & 2c3acac4b33ec2b195d77e7c04a2d75727fad723 & 2016 & 2304707 & Granja         & 23 & CE & 17 & F & 0 & ... & NA & A & A & C & A & B & A & A & C & A\\\\\n",
       "\t3 & 3 & f4545f8ccb9ff5c8aad7d32951b3f251a26e6568 & 2016 & 2304400 & Fortaleza      & 23 & CE & 21 & F & 0 & ... & NA & A & A & A & A & C & A & A & B & A\\\\\n",
       "\t4 & 4 & 3d6ec248fef899c414e77f82d5c6d2bffbeaf7fe & 2016 & 3304557 & Rio de Janeiro & 33 & RJ & 25 & F & 0 & ... &  5 & C & A & A & A & A & D & A & A & A\\\\\n",
       "\t5 & 5 & bf896ac8d3ecadd6dba1dfbf50110afcbf5d3268 & 2016 & 1302603 & Manaus         & 13 & AM & 28 & M & 0 & ... & NA & A & A & A & A & A & A & A & A & A\\\\\n",
       "\t6 & 6 & a37c99ec251d4f6e8ddbeabadf1c87fdbfddc4d1 & 2016 & 2902005 & Aracatu        & 29 & BA & 18 & F & 0 & ... & NA & A & A & A & A & A & A & A & A & A\\\\\n",
       "\\end{tabular}\n"
      ],
      "text/markdown": [
       "\n",
       "A data.frame: 6 × 167\n",
       "\n",
       "| <!--/--> | X &lt;int&gt; | NU_INSCRICAO &lt;fct&gt; | NU_ANO &lt;int&gt; | CO_MUNICIPIO_RESIDENCIA &lt;int&gt; | NO_MUNICIPIO_RESIDENCIA &lt;fct&gt; | CO_UF_RESIDENCIA &lt;int&gt; | SG_UF_RESIDENCIA &lt;fct&gt; | NU_IDADE &lt;int&gt; | TP_SEXO &lt;fct&gt; | TP_ESTADO_CIVIL &lt;int&gt; | ... ... | Q041 &lt;int&gt; | Q042 &lt;fct&gt; | Q043 &lt;fct&gt; | Q044 &lt;fct&gt; | Q045 &lt;fct&gt; | Q046 &lt;fct&gt; | Q047 &lt;fct&gt; | Q048 &lt;fct&gt; | Q049 &lt;fct&gt; | Q050 &lt;fct&gt; |\n",
       "|---|---|---|---|---|---|---|---|---|---|---|---|---|---|---|---|---|---|---|---|---|---|\n",
       "| 1 | 1 | ed50e8aaa58e7a806c337585efee9ca41f1eb1ad | 2016 | 4314902 | Porto Alegre   | 43 | RS | 24 | M | 0 | ... |  5 | A | A | A | A | A | A | A | B | D |\n",
       "| 2 | 2 | 2c3acac4b33ec2b195d77e7c04a2d75727fad723 | 2016 | 2304707 | Granja         | 23 | CE | 17 | F | 0 | ... | NA | A | A | C | A | B | A | A | C | A |\n",
       "| 3 | 3 | f4545f8ccb9ff5c8aad7d32951b3f251a26e6568 | 2016 | 2304400 | Fortaleza      | 23 | CE | 21 | F | 0 | ... | NA | A | A | A | A | C | A | A | B | A |\n",
       "| 4 | 4 | 3d6ec248fef899c414e77f82d5c6d2bffbeaf7fe | 2016 | 3304557 | Rio de Janeiro | 33 | RJ | 25 | F | 0 | ... |  5 | C | A | A | A | A | D | A | A | A |\n",
       "| 5 | 5 | bf896ac8d3ecadd6dba1dfbf50110afcbf5d3268 | 2016 | 1302603 | Manaus         | 13 | AM | 28 | M | 0 | ... | NA | A | A | A | A | A | A | A | A | A |\n",
       "| 6 | 6 | a37c99ec251d4f6e8ddbeabadf1c87fdbfddc4d1 | 2016 | 2902005 | Aracatu        | 29 | BA | 18 | F | 0 | ... | NA | A | A | A | A | A | A | A | A | A |\n",
       "\n"
      ],
      "text/plain": [
       "  X NU_INSCRICAO                             NU_ANO CO_MUNICIPIO_RESIDENCIA\n",
       "1 1 ed50e8aaa58e7a806c337585efee9ca41f1eb1ad 2016   4314902                \n",
       "2 2 2c3acac4b33ec2b195d77e7c04a2d75727fad723 2016   2304707                \n",
       "3 3 f4545f8ccb9ff5c8aad7d32951b3f251a26e6568 2016   2304400                \n",
       "4 4 3d6ec248fef899c414e77f82d5c6d2bffbeaf7fe 2016   3304557                \n",
       "5 5 bf896ac8d3ecadd6dba1dfbf50110afcbf5d3268 2016   1302603                \n",
       "6 6 a37c99ec251d4f6e8ddbeabadf1c87fdbfddc4d1 2016   2902005                \n",
       "  NO_MUNICIPIO_RESIDENCIA CO_UF_RESIDENCIA SG_UF_RESIDENCIA NU_IDADE TP_SEXO\n",
       "1 Porto Alegre            43               RS               24       M      \n",
       "2 Granja                  23               CE               17       F      \n",
       "3 Fortaleza               23               CE               21       F      \n",
       "4 Rio de Janeiro          33               RJ               25       F      \n",
       "5 Manaus                  13               AM               28       M      \n",
       "6 Aracatu                 29               BA               18       F      \n",
       "  TP_ESTADO_CIVIL ... Q041 Q042 Q043 Q044 Q045 Q046 Q047 Q048 Q049 Q050\n",
       "1 0               ...  5   A    A    A    A    A    A    A    B    D   \n",
       "2 0               ... NA   A    A    C    A    B    A    A    C    A   \n",
       "3 0               ... NA   A    A    A    A    C    A    A    B    A   \n",
       "4 0               ...  5   C    A    A    A    A    D    A    A    A   \n",
       "5 0               ... NA   A    A    A    A    A    A    A    A    A   \n",
       "6 0               ... NA   A    A    A    A    A    A    A    A    A   "
      ]
     },
     "metadata": {},
     "output_type": "display_data"
    }
   ],
   "source": [
    "# Pré visualização do conteúdo treino\n",
    "head(train)"
   ]
  },
  {
   "cell_type": "markdown",
   "metadata": {},
   "source": [
    "Como temos uma quantidade imensa de dados, fiz a leitura do dicionário de dados, separando os dados em subgrupos para visualizar a estrutura do dataset de treino por completo, como pode ser observado abaixo:\n"
   ]
  },
  {
   "cell_type": "code",
   "execution_count": 6,
   "metadata": {},
   "outputs": [],
   "source": [
    "# Dicionário de dados - Treino\n",
    "data_train_1 = train[, 1:21] # DADOS DO PARTICIPANTE\n",
    "data_train_2 = train[,22:29] # DADOS DA ESCOLA\n",
    "data_train_3 = train[,30:42] # DADOS DOS PEDIDOS DE ATENDIMENTO ESPECIALIZADO\n",
    "data_train_4 = train[,43:47] # DADOS DOS PEDIDOS DE ATENDIMENTO ESPECÍFICO\n",
    "data_train_5 = train[,48:81] # DADOS DOS PEDIDOS DE RECURSOS ESPECIALIZADOS E ESPECÍFICOS\n",
    "data_train_6 = train[,82:85] # DADOS DOS PEDIDOS DE CERTIFICAÇÃO DO ENSINO MÉDIO\n",
    "data_train_7 = train[,86:89] # DADOS DO LOCAL DE APLICAÇÃO DA PROVA\n",
    "data_train_8 = train[,90:92] # PRESENÇA NAS PROVAS (sem presença na prova de matemática) \n",
    "data_train_9 = train[93] # PRESENÇA NA PROVA DE MATEMATICA\n",
    "data_train_10 = train[,94:97] # CÓDIGO DA PROVA\n",
    "data_train_11 = train[,98:100] # NOTAS DAS PROVAS (sem a nota de matemátia e redação)\n",
    "data_train_12 = train[,102:110] # VETOR COM GABARITOS\n",
    "data_train_13 = train[,112:117] # NOTAS DE REDAÇÃO\n",
    "data_train_14 = train[,118:167] # DADOS DO QUESTIONÁRIO SOCIOECONÔMICO\n",
    "\n",
    "target_train = train[101] # NOTAS DE MATEMÁTICA "
   ]
  },
  {
   "cell_type": "markdown",
   "metadata": {},
   "source": [
    "Analisando os datasets, os dados referentes ao desempenho dos alunos encontram-se apenas nas colunas apontadas abaixo. Vou criar um dataset base para a nossa análise do `data_train`. Como os dois datasets são iguais, com a diferença que o dataset de treino tem menos colunas, farei a análise exploratória apenas com base nos dados de treino.\n",
    "\n",
    "- Presença na prova de matemática\n",
    "- Notas das provas\n",
    "- Notas de redação"
   ]
  },
  {
   "cell_type": "code",
   "execution_count": 7,
   "metadata": {},
   "outputs": [
    {
     "data": {
      "text/html": [
       "<table>\n",
       "<caption>A data.frame: 6 × 11</caption>\n",
       "<thead>\n",
       "\t<tr><th></th><th scope=col>TP_PRESENCA_MT</th><th scope=col>NU_NOTA_CN</th><th scope=col>NU_NOTA_CH</th><th scope=col>NU_NOTA_LC</th><th scope=col>NU_NOTA_COMP1</th><th scope=col>NU_NOTA_COMP2</th><th scope=col>NU_NOTA_COMP3</th><th scope=col>NU_NOTA_COMP4</th><th scope=col>NU_NOTA_COMP5</th><th scope=col>NU_NOTA_REDACAO</th><th scope=col>NU_NOTA_MT</th></tr>\n",
       "\t<tr><th></th><th scope=col>&lt;int&gt;</th><th scope=col>&lt;dbl&gt;</th><th scope=col>&lt;dbl&gt;</th><th scope=col>&lt;dbl&gt;</th><th scope=col>&lt;int&gt;</th><th scope=col>&lt;int&gt;</th><th scope=col>&lt;int&gt;</th><th scope=col>&lt;int&gt;</th><th scope=col>&lt;int&gt;</th><th scope=col>&lt;int&gt;</th><th scope=col>&lt;dbl&gt;</th></tr>\n",
       "</thead>\n",
       "<tbody>\n",
       "\t<tr><th scope=row>1</th><td>1</td><td>436.3</td><td>495.4</td><td>581.2</td><td>120</td><td>120</td><td>120</td><td> 80</td><td> 80</td><td>520</td><td>399.4</td></tr>\n",
       "\t<tr><th scope=row>2</th><td>1</td><td>474.5</td><td>544.1</td><td>599.0</td><td>140</td><td>120</td><td>120</td><td>120</td><td> 80</td><td>580</td><td>459.8</td></tr>\n",
       "\t<tr><th scope=row>3</th><td>0</td><td>   NA</td><td>   NA</td><td>   NA</td><td> NA</td><td> NA</td><td> NA</td><td> NA</td><td> NA</td><td> NA</td><td>   NA</td></tr>\n",
       "\t<tr><th scope=row>4</th><td>0</td><td>   NA</td><td>   NA</td><td>   NA</td><td> NA</td><td> NA</td><td> NA</td><td> NA</td><td> NA</td><td> NA</td><td>   NA</td></tr>\n",
       "\t<tr><th scope=row>5</th><td>0</td><td>   NA</td><td>   NA</td><td>   NA</td><td> NA</td><td> NA</td><td> NA</td><td> NA</td><td> NA</td><td> NA</td><td>   NA</td></tr>\n",
       "\t<tr><th scope=row>6</th><td>1</td><td>439.7</td><td>583.2</td><td>410.9</td><td>120</td><td>120</td><td>120</td><td>160</td><td>100</td><td>620</td><td>364.5</td></tr>\n",
       "</tbody>\n",
       "</table>\n"
      ],
      "text/latex": [
       "A data.frame: 6 × 11\n",
       "\\begin{tabular}{r|lllllllllll}\n",
       "  & TP\\_PRESENCA\\_MT & NU\\_NOTA\\_CN & NU\\_NOTA\\_CH & NU\\_NOTA\\_LC & NU\\_NOTA\\_COMP1 & NU\\_NOTA\\_COMP2 & NU\\_NOTA\\_COMP3 & NU\\_NOTA\\_COMP4 & NU\\_NOTA\\_COMP5 & NU\\_NOTA\\_REDACAO & NU\\_NOTA\\_MT\\\\\n",
       "  & <int> & <dbl> & <dbl> & <dbl> & <int> & <int> & <int> & <int> & <int> & <int> & <dbl>\\\\\n",
       "\\hline\n",
       "\t1 & 1 & 436.3 & 495.4 & 581.2 & 120 & 120 & 120 &  80 &  80 & 520 & 399.4\\\\\n",
       "\t2 & 1 & 474.5 & 544.1 & 599.0 & 140 & 120 & 120 & 120 &  80 & 580 & 459.8\\\\\n",
       "\t3 & 0 &    NA &    NA &    NA &  NA &  NA &  NA &  NA &  NA &  NA &    NA\\\\\n",
       "\t4 & 0 &    NA &    NA &    NA &  NA &  NA &  NA &  NA &  NA &  NA &    NA\\\\\n",
       "\t5 & 0 &    NA &    NA &    NA &  NA &  NA &  NA &  NA &  NA &  NA &    NA\\\\\n",
       "\t6 & 1 & 439.7 & 583.2 & 410.9 & 120 & 120 & 120 & 160 & 100 & 620 & 364.5\\\\\n",
       "\\end{tabular}\n"
      ],
      "text/markdown": [
       "\n",
       "A data.frame: 6 × 11\n",
       "\n",
       "| <!--/--> | TP_PRESENCA_MT &lt;int&gt; | NU_NOTA_CN &lt;dbl&gt; | NU_NOTA_CH &lt;dbl&gt; | NU_NOTA_LC &lt;dbl&gt; | NU_NOTA_COMP1 &lt;int&gt; | NU_NOTA_COMP2 &lt;int&gt; | NU_NOTA_COMP3 &lt;int&gt; | NU_NOTA_COMP4 &lt;int&gt; | NU_NOTA_COMP5 &lt;int&gt; | NU_NOTA_REDACAO &lt;int&gt; | NU_NOTA_MT &lt;dbl&gt; |\n",
       "|---|---|---|---|---|---|---|---|---|---|---|---|\n",
       "| 1 | 1 | 436.3 | 495.4 | 581.2 | 120 | 120 | 120 |  80 |  80 | 520 | 399.4 |\n",
       "| 2 | 1 | 474.5 | 544.1 | 599.0 | 140 | 120 | 120 | 120 |  80 | 580 | 459.8 |\n",
       "| 3 | 0 |    NA |    NA |    NA |  NA |  NA |  NA |  NA |  NA |  NA |    NA |\n",
       "| 4 | 0 |    NA |    NA |    NA |  NA |  NA |  NA |  NA |  NA |  NA |    NA |\n",
       "| 5 | 0 |    NA |    NA |    NA |  NA |  NA |  NA |  NA |  NA |  NA |    NA |\n",
       "| 6 | 1 | 439.7 | 583.2 | 410.9 | 120 | 120 | 120 | 160 | 100 | 620 | 364.5 |\n",
       "\n"
      ],
      "text/plain": [
       "  TP_PRESENCA_MT NU_NOTA_CN NU_NOTA_CH NU_NOTA_LC NU_NOTA_COMP1 NU_NOTA_COMP2\n",
       "1 1              436.3      495.4      581.2      120           120          \n",
       "2 1              474.5      544.1      599.0      140           120          \n",
       "3 0                 NA         NA         NA       NA            NA          \n",
       "4 0                 NA         NA         NA       NA            NA          \n",
       "5 0                 NA         NA         NA       NA            NA          \n",
       "6 1              439.7      583.2      410.9      120           120          \n",
       "  NU_NOTA_COMP3 NU_NOTA_COMP4 NU_NOTA_COMP5 NU_NOTA_REDACAO NU_NOTA_MT\n",
       "1 120            80            80           520             399.4     \n",
       "2 120           120            80           580             459.8     \n",
       "3  NA            NA            NA            NA                NA     \n",
       "4  NA            NA            NA            NA                NA     \n",
       "5  NA            NA            NA            NA                NA     \n",
       "6 120           160           100           620             364.5     "
      ]
     },
     "metadata": {},
     "output_type": "display_data"
    }
   ],
   "source": [
    "# Criando dataset apenas com os dados de desempenho dos alunos\n",
    "data_train = cbind(data_train_9, data_train_11, data_train_13, target_train)\n",
    "head(data_train)"
   ]
  },
  {
   "cell_type": "markdown",
   "metadata": {},
   "source": [
    "### **Tratamento de dados missing**\n",
    "\n",
    "Percebe-se que temos muitos dados nulos, inclusive na nossa variável target. O quanto isso representa no nosso dataset? Vejamos abaixo:"
   ]
  },
  {
   "cell_type": "code",
   "execution_count": 8,
   "metadata": {},
   "outputs": [
    {
     "data": {
      "text/html": [
       "<table>\n",
       "<caption>A data.frame: 11 × 4</caption>\n",
       "<thead>\n",
       "\t<tr><th></th><th scope=col>variable</th><th scope=col>nmiss</th><th scope=col>n</th><th scope=col>propmiss</th></tr>\n",
       "\t<tr><th></th><th scope=col>&lt;chr&gt;</th><th scope=col>&lt;dbl&gt;</th><th scope=col>&lt;dbl&gt;</th><th scope=col>&lt;dbl&gt;</th></tr>\n",
       "</thead>\n",
       "<tbody>\n",
       "\t<tr><th scope=row>1</th><td>TP_PRESENCA_MT </td><td>   0</td><td>13730</td><td>0.0000000</td></tr>\n",
       "\t<tr><th scope=row>2</th><td>NU_NOTA_CN     </td><td>3389</td><td>13730</td><td>0.2468318</td></tr>\n",
       "\t<tr><th scope=row>3</th><td>NU_NOTA_CH     </td><td>3389</td><td>13730</td><td>0.2468318</td></tr>\n",
       "\t<tr><th scope=row>4</th><td>NU_NOTA_LC     </td><td>3597</td><td>13730</td><td>0.2619811</td></tr>\n",
       "\t<tr><th scope=row>5</th><td>NU_NOTA_COMP1  </td><td>3597</td><td>13730</td><td>0.2619811</td></tr>\n",
       "\t<tr><th scope=row>6</th><td>NU_NOTA_COMP2  </td><td>3597</td><td>13730</td><td>0.2619811</td></tr>\n",
       "\t<tr><th scope=row>7</th><td>NU_NOTA_COMP3  </td><td>3597</td><td>13730</td><td>0.2619811</td></tr>\n",
       "\t<tr><th scope=row>8</th><td>NU_NOTA_COMP4  </td><td>3597</td><td>13730</td><td>0.2619811</td></tr>\n",
       "\t<tr><th scope=row>9</th><td>NU_NOTA_COMP5  </td><td>3597</td><td>13730</td><td>0.2619811</td></tr>\n",
       "\t<tr><th scope=row>10</th><td>NU_NOTA_REDACAO</td><td>3597</td><td>13730</td><td>0.2619811</td></tr>\n",
       "\t<tr><th scope=row>11</th><td>NU_NOTA_MT     </td><td>3597</td><td>13730</td><td>0.2619811</td></tr>\n",
       "</tbody>\n",
       "</table>\n"
      ],
      "text/latex": [
       "A data.frame: 11 × 4\n",
       "\\begin{tabular}{r|llll}\n",
       "  & variable & nmiss & n & propmiss\\\\\n",
       "  & <chr> & <dbl> & <dbl> & <dbl>\\\\\n",
       "\\hline\n",
       "\t1 & TP\\_PRESENCA\\_MT  &    0 & 13730 & 0.0000000\\\\\n",
       "\t2 & NU\\_NOTA\\_CN      & 3389 & 13730 & 0.2468318\\\\\n",
       "\t3 & NU\\_NOTA\\_CH      & 3389 & 13730 & 0.2468318\\\\\n",
       "\t4 & NU\\_NOTA\\_LC      & 3597 & 13730 & 0.2619811\\\\\n",
       "\t5 & NU\\_NOTA\\_COMP1   & 3597 & 13730 & 0.2619811\\\\\n",
       "\t6 & NU\\_NOTA\\_COMP2   & 3597 & 13730 & 0.2619811\\\\\n",
       "\t7 & NU\\_NOTA\\_COMP3   & 3597 & 13730 & 0.2619811\\\\\n",
       "\t8 & NU\\_NOTA\\_COMP4   & 3597 & 13730 & 0.2619811\\\\\n",
       "\t9 & NU\\_NOTA\\_COMP5   & 3597 & 13730 & 0.2619811\\\\\n",
       "\t10 & NU\\_NOTA\\_REDACAO & 3597 & 13730 & 0.2619811\\\\\n",
       "\t11 & NU\\_NOTA\\_MT      & 3597 & 13730 & 0.2619811\\\\\n",
       "\\end{tabular}\n"
      ],
      "text/markdown": [
       "\n",
       "A data.frame: 11 × 4\n",
       "\n",
       "| <!--/--> | variable &lt;chr&gt; | nmiss &lt;dbl&gt; | n &lt;dbl&gt; | propmiss &lt;dbl&gt; |\n",
       "|---|---|---|---|---|\n",
       "| 1 | TP_PRESENCA_MT  |    0 | 13730 | 0.0000000 |\n",
       "| 2 | NU_NOTA_CN      | 3389 | 13730 | 0.2468318 |\n",
       "| 3 | NU_NOTA_CH      | 3389 | 13730 | 0.2468318 |\n",
       "| 4 | NU_NOTA_LC      | 3597 | 13730 | 0.2619811 |\n",
       "| 5 | NU_NOTA_COMP1   | 3597 | 13730 | 0.2619811 |\n",
       "| 6 | NU_NOTA_COMP2   | 3597 | 13730 | 0.2619811 |\n",
       "| 7 | NU_NOTA_COMP3   | 3597 | 13730 | 0.2619811 |\n",
       "| 8 | NU_NOTA_COMP4   | 3597 | 13730 | 0.2619811 |\n",
       "| 9 | NU_NOTA_COMP5   | 3597 | 13730 | 0.2619811 |\n",
       "| 10 | NU_NOTA_REDACAO | 3597 | 13730 | 0.2619811 |\n",
       "| 11 | NU_NOTA_MT      | 3597 | 13730 | 0.2619811 |\n",
       "\n"
      ],
      "text/plain": [
       "   variable        nmiss n     propmiss \n",
       "1  TP_PRESENCA_MT     0  13730 0.0000000\n",
       "2  NU_NOTA_CN      3389  13730 0.2468318\n",
       "3  NU_NOTA_CH      3389  13730 0.2468318\n",
       "4  NU_NOTA_LC      3597  13730 0.2619811\n",
       "5  NU_NOTA_COMP1   3597  13730 0.2619811\n",
       "6  NU_NOTA_COMP2   3597  13730 0.2619811\n",
       "7  NU_NOTA_COMP3   3597  13730 0.2619811\n",
       "8  NU_NOTA_COMP4   3597  13730 0.2619811\n",
       "9  NU_NOTA_COMP5   3597  13730 0.2619811\n",
       "10 NU_NOTA_REDACAO 3597  13730 0.2619811\n",
       "11 NU_NOTA_MT      3597  13730 0.2619811"
      ]
     },
     "metadata": {},
     "output_type": "display_data"
    }
   ],
   "source": [
    "# Função - Proporção dos valores missing\n",
    "propmiss = function(dataframe) {\n",
    "  m = sapply(dataframe, function(x) {\n",
    "    data.frame(\n",
    "      nmiss = sum(is.na(x)),  \n",
    "      n=length(x),\n",
    "      propmiss = sum(is.na(x))/length(x) \n",
    "    )\n",
    "  })\n",
    "  d = data.frame(t(m))\n",
    "  d = sapply(d, unlist)\n",
    "  d = as.data.frame(d)\n",
    "  d$variable = row.names(d)\n",
    "  row.names(d) = NULL\n",
    "  d = cbind(d[ncol(d)],d[-ncol(d)])\n",
    "  return(d[order(d$propmiss), ])\n",
    "}\n",
    "\n",
    "# Proporção dos valores missing\n",
    "propmiss(data_train)"
   ]
  },
  {
   "cell_type": "code",
   "execution_count": 9,
   "metadata": {},
   "outputs": [
    {
     "data": {
      "text/html": [
       "0.261252731245448"
      ],
      "text/latex": [
       "0.261252731245448"
      ],
      "text/markdown": [
       "0.261252731245448"
      ],
      "text/plain": [
       "[1] 0.2612527"
      ]
     },
     "metadata": {},
     "output_type": "display_data"
    }
   ],
   "source": [
    "# Proporção de pessoas que faltaram na prova de matemática\n",
    "(13730 - sum(train$TP_PRESENCA_MT))/13730"
   ]
  },
  {
   "cell_type": "markdown",
   "metadata": {},
   "source": [
    "Os dados NA aparecem quando o aluno não compareceu no dia da prova. Pela tabela acima, percebemos que cerca de 25% dos candidatos faltaram no dia da prova. Como forma de tratamento, podemos substituir os dados missing por 0, considerando que o candidato não tirou nenhuma nota se ele faltou. Precisaremos fazer isso em nosso dataset de teste também, antes de inserir os dados no modelo."
   ]
  },
  {
   "cell_type": "code",
   "execution_count": 11,
   "metadata": {},
   "outputs": [
    {
     "data": {
      "text/html": [
       "<table>\n",
       "<caption>A data.frame: 6 × 11</caption>\n",
       "<thead>\n",
       "\t<tr><th></th><th scope=col>TP_PRESENCA_MT</th><th scope=col>NU_NOTA_CN</th><th scope=col>NU_NOTA_CH</th><th scope=col>NU_NOTA_LC</th><th scope=col>NU_NOTA_COMP1</th><th scope=col>NU_NOTA_COMP2</th><th scope=col>NU_NOTA_COMP3</th><th scope=col>NU_NOTA_COMP4</th><th scope=col>NU_NOTA_COMP5</th><th scope=col>NU_NOTA_REDACAO</th><th scope=col>NU_NOTA_MT</th></tr>\n",
       "\t<tr><th></th><th scope=col>&lt;int&gt;</th><th scope=col>&lt;dbl&gt;</th><th scope=col>&lt;dbl&gt;</th><th scope=col>&lt;dbl&gt;</th><th scope=col>&lt;dbl&gt;</th><th scope=col>&lt;dbl&gt;</th><th scope=col>&lt;dbl&gt;</th><th scope=col>&lt;dbl&gt;</th><th scope=col>&lt;dbl&gt;</th><th scope=col>&lt;dbl&gt;</th><th scope=col>&lt;dbl&gt;</th></tr>\n",
       "</thead>\n",
       "<tbody>\n",
       "\t<tr><th scope=row>1</th><td>1</td><td>436.3</td><td>495.4</td><td>581.2</td><td>120</td><td>120</td><td>120</td><td> 80</td><td> 80</td><td>520</td><td>399.4</td></tr>\n",
       "\t<tr><th scope=row>2</th><td>1</td><td>474.5</td><td>544.1</td><td>599.0</td><td>140</td><td>120</td><td>120</td><td>120</td><td> 80</td><td>580</td><td>459.8</td></tr>\n",
       "\t<tr><th scope=row>3</th><td>0</td><td>  0.0</td><td>  0.0</td><td>  0.0</td><td>  0</td><td>  0</td><td>  0</td><td>  0</td><td>  0</td><td>  0</td><td>  0.0</td></tr>\n",
       "\t<tr><th scope=row>4</th><td>0</td><td>  0.0</td><td>  0.0</td><td>  0.0</td><td>  0</td><td>  0</td><td>  0</td><td>  0</td><td>  0</td><td>  0</td><td>  0.0</td></tr>\n",
       "\t<tr><th scope=row>5</th><td>0</td><td>  0.0</td><td>  0.0</td><td>  0.0</td><td>  0</td><td>  0</td><td>  0</td><td>  0</td><td>  0</td><td>  0</td><td>  0.0</td></tr>\n",
       "\t<tr><th scope=row>6</th><td>1</td><td>439.7</td><td>583.2</td><td>410.9</td><td>120</td><td>120</td><td>120</td><td>160</td><td>100</td><td>620</td><td>364.5</td></tr>\n",
       "</tbody>\n",
       "</table>\n"
      ],
      "text/latex": [
       "A data.frame: 6 × 11\n",
       "\\begin{tabular}{r|lllllllllll}\n",
       "  & TP\\_PRESENCA\\_MT & NU\\_NOTA\\_CN & NU\\_NOTA\\_CH & NU\\_NOTA\\_LC & NU\\_NOTA\\_COMP1 & NU\\_NOTA\\_COMP2 & NU\\_NOTA\\_COMP3 & NU\\_NOTA\\_COMP4 & NU\\_NOTA\\_COMP5 & NU\\_NOTA\\_REDACAO & NU\\_NOTA\\_MT\\\\\n",
       "  & <int> & <dbl> & <dbl> & <dbl> & <dbl> & <dbl> & <dbl> & <dbl> & <dbl> & <dbl> & <dbl>\\\\\n",
       "\\hline\n",
       "\t1 & 1 & 436.3 & 495.4 & 581.2 & 120 & 120 & 120 &  80 &  80 & 520 & 399.4\\\\\n",
       "\t2 & 1 & 474.5 & 544.1 & 599.0 & 140 & 120 & 120 & 120 &  80 & 580 & 459.8\\\\\n",
       "\t3 & 0 &   0.0 &   0.0 &   0.0 &   0 &   0 &   0 &   0 &   0 &   0 &   0.0\\\\\n",
       "\t4 & 0 &   0.0 &   0.0 &   0.0 &   0 &   0 &   0 &   0 &   0 &   0 &   0.0\\\\\n",
       "\t5 & 0 &   0.0 &   0.0 &   0.0 &   0 &   0 &   0 &   0 &   0 &   0 &   0.0\\\\\n",
       "\t6 & 1 & 439.7 & 583.2 & 410.9 & 120 & 120 & 120 & 160 & 100 & 620 & 364.5\\\\\n",
       "\\end{tabular}\n"
      ],
      "text/markdown": [
       "\n",
       "A data.frame: 6 × 11\n",
       "\n",
       "| <!--/--> | TP_PRESENCA_MT &lt;int&gt; | NU_NOTA_CN &lt;dbl&gt; | NU_NOTA_CH &lt;dbl&gt; | NU_NOTA_LC &lt;dbl&gt; | NU_NOTA_COMP1 &lt;dbl&gt; | NU_NOTA_COMP2 &lt;dbl&gt; | NU_NOTA_COMP3 &lt;dbl&gt; | NU_NOTA_COMP4 &lt;dbl&gt; | NU_NOTA_COMP5 &lt;dbl&gt; | NU_NOTA_REDACAO &lt;dbl&gt; | NU_NOTA_MT &lt;dbl&gt; |\n",
       "|---|---|---|---|---|---|---|---|---|---|---|---|\n",
       "| 1 | 1 | 436.3 | 495.4 | 581.2 | 120 | 120 | 120 |  80 |  80 | 520 | 399.4 |\n",
       "| 2 | 1 | 474.5 | 544.1 | 599.0 | 140 | 120 | 120 | 120 |  80 | 580 | 459.8 |\n",
       "| 3 | 0 |   0.0 |   0.0 |   0.0 |   0 |   0 |   0 |   0 |   0 |   0 |   0.0 |\n",
       "| 4 | 0 |   0.0 |   0.0 |   0.0 |   0 |   0 |   0 |   0 |   0 |   0 |   0.0 |\n",
       "| 5 | 0 |   0.0 |   0.0 |   0.0 |   0 |   0 |   0 |   0 |   0 |   0 |   0.0 |\n",
       "| 6 | 1 | 439.7 | 583.2 | 410.9 | 120 | 120 | 120 | 160 | 100 | 620 | 364.5 |\n",
       "\n"
      ],
      "text/plain": [
       "  TP_PRESENCA_MT NU_NOTA_CN NU_NOTA_CH NU_NOTA_LC NU_NOTA_COMP1 NU_NOTA_COMP2\n",
       "1 1              436.3      495.4      581.2      120           120          \n",
       "2 1              474.5      544.1      599.0      140           120          \n",
       "3 0                0.0        0.0        0.0        0             0          \n",
       "4 0                0.0        0.0        0.0        0             0          \n",
       "5 0                0.0        0.0        0.0        0             0          \n",
       "6 1              439.7      583.2      410.9      120           120          \n",
       "  NU_NOTA_COMP3 NU_NOTA_COMP4 NU_NOTA_COMP5 NU_NOTA_REDACAO NU_NOTA_MT\n",
       "1 120            80            80           520             399.4     \n",
       "2 120           120            80           580             459.8     \n",
       "3   0             0             0             0               0.0     \n",
       "4   0             0             0             0               0.0     \n",
       "5   0             0             0             0               0.0     \n",
       "6 120           160           100           620             364.5     "
      ]
     },
     "metadata": {},
     "output_type": "display_data"
    }
   ],
   "source": [
    "# Removendo valores NA\n",
    "data_train[is.na(data_train)] = 0\n",
    "head(data_train)"
   ]
  },
  {
   "cell_type": "markdown",
   "metadata": {},
   "source": [
    "### **Correlação dos dados**"
   ]
  },
  {
   "cell_type": "code",
   "execution_count": 12,
   "metadata": {},
   "outputs": [
    {
     "data": {
      "image/png": "[encoded data removed]",
      "text/plain": [
       "Plot with title \"\""
      ]
     },
     "metadata": {
      "image/png": {
       "height": 540,
       "width": 720
      },
      "text/plain": {
       "height": 540,
       "width": 720
      }
     },
     "output_type": "display_data"
    }
   ],
   "source": [
    "# Plot de correlação\n",
    "options(repr.plot.width=12, repr.plot.height=9)\n",
    "m_cor = cor(data_train)\n",
    "corrplot(m_cor, method = \"square\", tl.col = \"black\")"
   ]
  },
  {
   "cell_type": "markdown",
   "metadata": {},
   "source": [
    "Visualizando o plot de correlação, notamos que as variáveis que mais tem correlação com a nota de matemática são a `TP_PRESENCA_MT`, referente à presença no dia da prova de matemática, o que é bem óbvio, e a `NU_NOTA_LC`, referente à prova de linguagens e códigos.\n",
    "\n",
    "Já a menor correlação foi com a nota de redação `NU_NOTAC_COMP5` mas essa nota apresentou baixar correlação com todas as outras variáveis também, então, sem muitas surpresas por aqui."
   ]
  },
  {
   "cell_type": "code",
   "execution_count": 13,
   "metadata": {},
   "outputs": [
    {
     "data": {
      "image/png": "[encoded data removed]",
      "text/plain": [
       "plot without title"
      ]
     },
     "metadata": {
      "image/png": {
       "height": 420,
       "width": 720
      },
      "text/plain": {
       "height": 420,
       "width": 720
      }
     },
     "output_type": "display_data"
    }
   ],
   "source": [
    "# Visualizando a maior correlação\n",
    "options(repr.plot.width=12, repr.plot.height=7)\n",
    "ggplot(data_train)+\n",
    "    geom_point(aes(x = NU_NOTA_LC, y = NU_NOTA_MT), color = \"steelblue\")"
   ]
  },
  {
   "cell_type": "markdown",
   "metadata": {},
   "source": [
    "Parece haver uma dependencia positiva entre as duas variáveis: quanto maior a `NU_NOTA_LC` maior a `NU_NOTA_MT`. Vamos checar o que acontece com a nosso target quando correlacionado com todas as outras variáveis:"
   ]
  },
  {
   "cell_type": "code",
   "execution_count": 1191,
   "metadata": {},
   "outputs": [
    {
     "data": {
      "image/png": "[encoded data removed]",
      "text/plain": [
       "plot without title"
      ]
     },
     "metadata": {
      "image/png": {
       "height": 720,
       "width": 720
      },
      "text/plain": {
       "height": 720,
       "width": 720
      }
     },
     "output_type": "display_data"
    }
   ],
   "source": [
    "# Pairs Graph\n",
    "options(repr.plot.width=12, repr.plot.height=12)\n",
    "pairs(data_train[2:11], panel = panel.smooth, col = \"steelblue\")"
   ]
  },
  {
   "cell_type": "markdown",
   "metadata": {},
   "source": [
    "O gráfico mostra que existe uma correlação positiva entre todas as variáveis. Quanto maior a nota em uma disciplina, maior a nota em outra disciplina. O que faz muito sentido, imaginando que um aluno que tenha se preparado melhor, esteja melhor preparado para todas as matérias.\n",
    "\n",
    "Também notamos que há uma concentração de notas zero em praticamente todas as disciplinas, que fogem muito do padrão de concentração das notas médias."
   ]
  },
  {
   "cell_type": "markdown",
   "metadata": {},
   "source": [
    "### **Distribuição das notas**"
   ]
  },
  {
   "cell_type": "code",
   "execution_count": 15,
   "metadata": {},
   "outputs": [
    {
     "data": {
      "image/png": "[encoded data removed]",
      "text/plain": [
       "plot without title"
      ]
     },
     "metadata": {
      "image/png": {
       "height": 420,
       "width": 720
      },
      "text/plain": {
       "height": 420,
       "width": 720
      }
     },
     "output_type": "display_data"
    }
   ],
   "source": [
    "# Plot da distribuição das notas\n",
    "options(repr.plot.width=12, repr.plot.height=7)\n",
    "ggplot(data = data_train, aes(x = NU_NOTA_MT)) + \n",
    "    geom_histogram(aes(y = ..density..), fill = 'blue', alpha = 0.5,bins = 50) + \n",
    "    geom_density(colour = 'red', lwd = 1) + xlab(expression(bold('Nota obtida'))) + \n",
    "    ylab(expression(bold('Contagem de notas')))"
   ]
  },
  {
   "cell_type": "markdown",
   "metadata": {},
   "source": [
    "O gráfico mostra que houve quantidade enorme de notas zero na prova de matemática e essas notas configuram um outlier. Isso pode acabar prejudicando a acertividade do nosso modelo. Vejamos o quanto esses número podem influenciar nos resultados:"
   ]
  },
  {
   "cell_type": "code",
   "execution_count": 16,
   "metadata": {},
   "outputs": [
    {
     "data": {
      "text/html": [
       "356.092607428988"
      ],
      "text/latex": [
       "356.092607428988"
      ],
      "text/markdown": [
       "356.092607428988"
      ],
      "text/plain": [
       "[1] 356.0926"
      ]
     },
     "metadata": {},
     "output_type": "display_data"
    },
    {
     "data": {
      "text/html": [
       "422.5"
      ],
      "text/latex": [
       "422.5"
      ],
      "text/markdown": [
       "422.5"
      ],
      "text/plain": [
       "[1] 422.5"
      ]
     },
     "metadata": {},
     "output_type": "display_data"
    },
    {
     "data": {
      "text/html": [
       "228.844193243121"
      ],
      "text/latex": [
       "228.844193243121"
      ],
      "text/markdown": [
       "228.844193243121"
      ],
      "text/plain": [
       "[1] 228.8442"
      ]
     },
     "metadata": {},
     "output_type": "display_data"
    }
   ],
   "source": [
    "# Medidas de dispersão (dados completos)\n",
    "mean(data_train$NU_NOTA_MT) # Média\n",
    "median(data_train$NU_NOTA_MT) # Mediana\n",
    "sd(data_train$NU_NOTA_MT) # Desvio padrão"
   ]
  },
  {
   "cell_type": "code",
   "execution_count": 17,
   "metadata": {},
   "outputs": [
    {
     "data": {
      "text/html": [
       "482.266288364749"
      ],
      "text/latex": [
       "482.266288364749"
      ],
      "text/markdown": [
       "482.266288364749"
      ],
      "text/plain": [
       "[1] 482.2663"
      ]
     },
     "metadata": {},
     "output_type": "display_data"
    },
    {
     "data": {
      "text/html": [
       "461.1"
      ],
      "text/latex": [
       "461.1"
      ],
      "text/markdown": [
       "461.1"
      ],
      "text/plain": [
       "[1] 461.1"
      ]
     },
     "metadata": {},
     "output_type": "display_data"
    },
    {
     "data": {
      "text/html": [
       "100.394522403922"
      ],
      "text/latex": [
       "100.394522403922"
      ],
      "text/markdown": [
       "100.394522403922"
      ],
      "text/plain": [
       "[1] 100.3945"
      ]
     },
     "metadata": {},
     "output_type": "display_data"
    }
   ],
   "source": [
    "# Medidas de dispersão (Remoção de alunos que faltaram no dia da prova ou que foram eliminados)\n",
    "data_train2 = data_train[-which(data_train$TP_PRESENCA_MT == 0),] # alunos que faltaram no dia da prova\n",
    "data_train2 = data_train2[-which(data_train$TP_PRESENCA_MT == 2),] # alunos que foram eliminados da prova\n",
    "mean(data_train2$NU_NOTA_MT) # Média\n",
    "median(data_train2$NU_NOTA_MT) # Mediana\n",
    "sd(data_train2$NU_NOTA_MT) # Desvio padrão"
   ]
  },
  {
   "cell_type": "markdown",
   "metadata": {},
   "source": [
    "Os valores zerados influenciam em muito nos resultados dos testes, sendo que o desvio padrão foi de 228 para 100. Mas todas as notas zero são referentes à alunos que faltaram ou foram eliminaos? Vamos ver como ficou o histograma com as notas removidas."
   ]
  },
  {
   "cell_type": "code",
   "execution_count": 18,
   "metadata": {},
   "outputs": [
    {
     "data": {
      "image/png": "[encoded data removed]",
      "text/plain": [
       "plot without title"
      ]
     },
     "metadata": {
      "image/png": {
       "height": 420,
       "width": 720
      },
      "text/plain": {
       "height": 420,
       "width": 720
      }
     },
     "output_type": "display_data"
    }
   ],
   "source": [
    "# Plot da distribuição das notas sem os alunos que faltaram\n",
    "ggplot(data = data_train2, aes(x = NU_NOTA_MT)) + \n",
    "    geom_histogram(aes(y = ..density..), fill = 'blue', alpha = 0.5,bins = 50) + \n",
    "    geom_density(colour = 'red', lwd = 1) + xlab(expression(bold('Nota obtida'))) + \n",
    "    ylab(expression(bold('Contgem de notas')))"
   ]
  },
  {
   "cell_type": "markdown",
   "metadata": {},
   "source": [
    "A visualização dos dados ficou muito melhor sem os dias de `TP_PRESENCA_MT` = 0 e `TP_PRESENCA_MT` = 2. Temos apenas uma pequena parcela de alunos que compareceram a prova mas que zeraram na disciplina.\n",
    "\n",
    "Para resolver esse problema (do outlier de zeros), vou seguir com a estratégia de treinar o modelo apenas com os dados de alunos que compareceram. Dados com `TP_PRESENCA_MT` = 0 e `TP_PRESENCA_MT` = 2 receberão automaticamente o valor zero."
   ]
  },
  {
   "cell_type": "markdown",
   "metadata": {},
   "source": [
    "## **Preparo dos dados**\n",
    "\n",
    "Como falamos anteriormente, utilizarei os dados da presença no dia da prova de matemática para dividir os dados em 2 datasets. Assim, vou usar apenas os dados das notas de alunos que compareceram no dia do teste:"
   ]
  },
  {
   "cell_type": "code",
   "execution_count": 20,
   "metadata": {},
   "outputs": [],
   "source": [
    "# Dados de treino \n",
    "\n",
    "d1 = train[,98:100] # NOTAS DAS PROVAS (sem a nota de matemátia e redação)\n",
    "d2 = train[,112:117] # NOTAS DE REDAÇÃO\n",
    "d3 = train[101] # NOTAS DE MATEMÁTICA \n",
    "d4 = train[93] # PRESENÇA NA PROVA DE MATEMATICA\n",
    "\n",
    "# datasets finais para treino\n",
    "notas = cbind(d1, d2, d3) # Todas as notas\n",
    "notas[is.na(notas)] = 0 # Substituição de NAs por zero\n",
    "notas = notas[-which(d4$TP_PRESENCA_MT == 0 | d4$TP_PRESENCA_MT == 2),] # Remoção de faltas e eliminações"
   ]
  },
  {
   "cell_type": "markdown",
   "metadata": {},
   "source": [
    "Ainda, irei subdividir os resultados em teste e validação, para conseguir métricas do desempenho dos modelos gerados:"
   ]
  },
  {
   "cell_type": "code",
   "execution_count": 51,
   "metadata": {},
   "outputs": [],
   "source": [
    "# Separação dados de treino e dados de validação\n",
    "amostra = floor(nrow(notas) * 0.8)                  # 80% para treino e 20% para teste\n",
    "notas_train = notas[1:amostra, ]                     # dataset de treino - primeiros 80%\n",
    "notas_valid  = notas[(amostra + 1):nrow(notas), ]      # dataset de teste - 20% restantes\n",
    "target_valid = notas_valid[[10]]                     # Vetor com variável target nas notas validação\n",
    "notas_valid = notas_valid[,1:9]                      # Dataframe com todas as notas menos matemática"
   ]
  },
  {
   "cell_type": "markdown",
   "metadata": {},
   "source": [
    "Como não temos a variável `TP_PRESENCA_MT` no nosso dataset de treino “Linguagens, Códigos e suas Tecnologias\", também estará em Matemática, pois são realizados no mesmo dia. Assumirei todas aquelas inscrições que não estiveram presentes como nota zero em Matemática. Para a composição da nota nula de redação, também vou aplicar o valor 0."
   ]
  },
  {
   "cell_type": "code",
   "execution_count": 30,
   "metadata": {},
   "outputs": [],
   "source": [
    "# Dados de teste\n",
    "d1 = test[1] # Identificação do aluno\n",
    "d2 = test[29:31] # Notas das perguntas multiescolha\n",
    "d3 = test[34:39] # Notas de redação\n",
    "\n",
    "data_test = cbind(d1, d2, d3)\n",
    "data_test[is.na(data_test)] = 0 # Substituição de NAs por zero\n",
    "\n",
    "# Presença no dia da prova\n",
    "presenca = test[\"TP_PRESENCA_LC\"] # PRESENÇA NA PROVA DE MATEMATICA = PRESEÇA EM LINGUAGENS E CÓDIGOS\n",
    "\n",
    "# Separar teste em 2 datasets\n",
    "data_test0 = data_test[which(presenca$TP_PRESENCA_LC == 0| presenca$TP_PRESENCA_LC == 2),] \n",
    "data_test1 = data_test[-which(presenca$TP_PRESENCA_LC == 0 | presenca$TP_PRESENCA_LC == 2),] \n",
    "\n",
    "# Dados para teste\n",
    "id_test = data_test1[1]\n",
    "notas_test = data_test1[,2:10]"
   ]
  },
  {
   "cell_type": "markdown",
   "metadata": {},
   "source": [
    "## **Métricas**\n",
    "\n",
    "Para comparar os diversos modelos gerados, vou utilizar as seguintes métricas:\n",
    "\n",
    "- `mae` : Mean Absolute Error\n",
    "- `mdae` : Median Absolute Error\n",
    "- `mse` : Mean Squared Error\n",
    "- `rae` : Relative Absolute Error: sum(ae(actual, predicted)) / sum(ae(actual, mean(actual)))\n",
    "- `rmse` : Root Mean Squared Error\n",
    "- `rrse` : Root relative squared error\n",
    "- `rse` : Relative Squared Error : s sse(actual, predicted) / sse(actual, mean(actual))\n",
    "- `sse` : Sum of Squared Error\n",
    "- `rsq` : r-squared"
   ]
  },
  {
   "cell_type": "code",
   "execution_count": 215,
   "metadata": {},
   "outputs": [],
   "source": [
    "# Função para o cálculo de r-squared (Não consta no pacote Metrics)\n",
    "rsq = function(x, y) summary(lm(y~x))$r.squared\n",
    "\n",
    "# Criando um dataframe vazio para as métricas\n",
    "metricas = c(\"nome_incial\",0,0,0,0,0,0,0,0,0)\n",
    "\n",
    "# Função para guardar as metricas de um modelo e retorná-las\n",
    "calcula_metricas = function(modelo_nome, target_test, ypred) {\n",
    "    \n",
    "    # Métricas de desempenho\n",
    "    m1 = round(mae(target_test, ypred),2) # Mean Absolute Error\n",
    "    m2 = round(mdae(target_test, ypred),2) # Median Absolute Error\n",
    "    m3 = round(mse(target_test, ypred),2) # Mean Squared Error\n",
    "    m4 = round(rae(target_test, ypred),2) # Relative Absolute Error: sum(ae(target_test, ypred)) / sum(ae(actual, mean(actual)))\n",
    "    m5 = round(rmse(target_test, ypred),2) # Root Mean Squared Error\n",
    "    m6 = round(rrse(target_test, ypred),2) # root relative squared error\n",
    "    m7 = round(rse(target_test, ypred),2) # Relative Squared Error : s sse(target_test, ypred) / sse(actual, mean(actual))\n",
    "    m8 = round(sse(target_test, ypred),0) # Sum of Squared Error\n",
    "    m9 = round(rsq(target_test, ypred),2) # r-squared\n",
    "\n",
    "    # Vetor de métricas\n",
    "    metricas_do_modelo = c(modelo_nome, m1, m2, m3, m4, m5, m6, m7, m8, m9)\n",
    "        \n",
    "    # Inserir as metricas no dataframe de métricas\n",
    "    metricas = rbind(metricas, metricas_do_modelo)\n",
    "    colnames(metricas) = c(\"nome_modelo\", \"mae\", \"mdae\", \"mse\", \"rae\", \"rmse\", \"rrse\", \"rse\", \"sse\", \"rsq\")\n",
    "    metricas <<- metricas\n",
    "    \n",
    "    \n",
    "    # Salvar as metricas para hisórico\n",
    "    metricas_nome = paste(\"metricas_\", modelo_nome)\n",
    "    assign(metricas_nome, metricas_do_modelo, envir = .GlobalEnv)   \n",
    "    }"
   ]
  },
  {
   "cell_type": "markdown",
   "metadata": {},
   "source": [
    "## **Modelos**\n",
    "\n",
    "Para identificar o melhor modelo para o problema, fazer o teste com vários para comparar e encontrar qual deles tem a menor taxa de erros. Começarei pelo mais básico de todos, a regressão linear."
   ]
  },
  {
   "cell_type": "markdown",
   "metadata": {},
   "source": [
    "### **Regressão linear**\n",
    "\n",
    "**Modelo 1**\n"
   ]
  },
  {
   "cell_type": "code",
   "execution_count": 52,
   "metadata": {
    "scrolled": false
   },
   "outputs": [
    {
     "data": {
      "text/plain": [
       "\n",
       "Call:\n",
       "lm(formula = NU_NOTA_MT ~ ., data = notas_train)\n",
       "\n",
       "Residuals:\n",
       "    Min      1Q  Median      3Q     Max \n",
       "-462.34  -55.69   -8.07   49.18  383.39 \n",
       "\n",
       "Coefficients: (1 not defined because of singularities)\n",
       "                Estimate Std. Error t value Pr(>|t|)    \n",
       "(Intercept)     25.37194    7.75104   3.273 0.001067 ** \n",
       "NU_NOTA_CN       0.46416    0.01595  29.095  < 2e-16 ***\n",
       "NU_NOTA_CH       0.11266    0.01732   6.504 8.31e-11 ***\n",
       "NU_NOTA_LC       0.31254    0.01777  17.585  < 2e-16 ***\n",
       "NU_NOTA_COMP1   -0.06944    0.05483  -1.267 0.205340    \n",
       "NU_NOTA_COMP2   -0.03216    0.05825  -0.552 0.580910    \n",
       "NU_NOTA_COMP3    0.07112    0.05988   1.188 0.234928    \n",
       "NU_NOTA_COMP4    0.11329    0.05711   1.984 0.047323 *  \n",
       "NU_NOTA_COMP5    0.10680    0.02909   3.672 0.000243 ***\n",
       "NU_NOTA_REDACAO       NA         NA      NA       NA    \n",
       "---\n",
       "Signif. codes:  0 '***' 0.001 '**' 0.01 '*' 0.05 '.' 0.1 ' ' 1\n",
       "\n",
       "Residual standard error: 79.5 on 8097 degrees of freedom\n",
       "Multiple R-squared:  0.3724,\tAdjusted R-squared:  0.3717 \n",
       "F-statistic: 600.5 on 8 and 8097 DF,  p-value: < 2.2e-16\n"
      ]
     },
     "metadata": {},
     "output_type": "display_data"
    }
   ],
   "source": [
    "# Modelo de regressão linear 1 (Com todos os atributos)\n",
    "modelo_rlin1 = lm(NU_NOTA_MT ~ ., data = notas_train)\n",
    "summary(modelo_rlin1)"
   ]
  },
  {
   "cell_type": "markdown",
   "metadata": {},
   "source": [
    "O resumo do modelo acima nos dá a informação de que nem todos os atributos são relevantes para o modelo. Os mais importantes são os marcados com 3 asteriscos `NU_NOTA_CN`, `NU_NOTA_CH`, `NU_NOTA_LC` e `NU_NOTA_COMP5 `e o de importância média `NU_NOTA_COMP4`. Verificamos assim, que as notas de redação são as que menos influenciam na variável target. Dessa maneira, irei construir um segundo modelo apenas com as variáveis relevante, mas antes, vou salvar os resultados do modelo 1 para fazermos uma comparação."
   ]
  },
  {
   "cell_type": "code",
   "execution_count": 216,
   "metadata": {},
   "outputs": [
    {
     "name": "stderr",
     "output_type": "stream",
     "text": [
      "Warning message in predict.lm(modelo_rlin1, notas_valid):\n",
      "\"prediction from a rank-deficient fit may be misleading\"\n"
     ]
    },
    {
     "data": {
      "text/html": [
       "<style>\n",
       ".dl-inline {width: auto; margin:0; padding: 0}\n",
       ".dl-inline>dt, .dl-inline>dd {float: none; width: auto; display: inline-block}\n",
       ".dl-inline>dt::after {content: \":\\0020\"; padding-right: .5ex}\n",
       ".dl-inline>dt:not(:first-of-type) {padding-left: .5ex}\n",
       "</style><dl class=dl-inline><dt>nome_modelo</dt><dd>'modelo_rlin1'</dd><dt>mae</dt><dd>'60.7'</dd><dt>mdae</dt><dd>'49.63'</dd><dt>mse</dt><dd>'6124.44'</dd><dt>rae</dt><dd>'0.79'</dd><dt>rmse</dt><dd>'78.26'</dd><dt>rrse</dt><dd>'0.8'</dd><dt>rse</dt><dd>'0.64'</dd><dt>sse</dt><dd>'12414243'</dd><dt>rsq</dt><dd>'0.36'</dd></dl>\n"
      ],
      "text/latex": [
       "\\begin{description*}\n",
       "\\item[nome\\textbackslash{}\\_modelo] 'modelo\\_rlin1'\n",
       "\\item[mae] '60.7'\n",
       "\\item[mdae] '49.63'\n",
       "\\item[mse] '6124.44'\n",
       "\\item[rae] '0.79'\n",
       "\\item[rmse] '78.26'\n",
       "\\item[rrse] '0.8'\n",
       "\\item[rse] '0.64'\n",
       "\\item[sse] '12414243'\n",
       "\\item[rsq] '0.36'\n",
       "\\end{description*}\n"
      ],
      "text/markdown": [
       "nome_modelo\n",
       ":   'modelo_rlin1'mae\n",
       ":   '60.7'mdae\n",
       ":   '49.63'mse\n",
       ":   '6124.44'rae\n",
       ":   '0.79'rmse\n",
       ":   '78.26'rrse\n",
       ":   '0.8'rse\n",
       ":   '0.64'sse\n",
       ":   '12414243'rsq\n",
       ":   '0.36'\n",
       "\n"
      ],
      "text/plain": [
       "   nome_modelo            mae           mdae            mse            rae \n",
       "\"modelo_rlin1\"         \"60.7\"        \"49.63\"      \"6124.44\"         \"0.79\" \n",
       "          rmse           rrse            rse            sse            rsq \n",
       "       \"78.26\"          \"0.8\"         \"0.64\"     \"12414243\"         \"0.36\" "
      ]
     },
     "metadata": {},
     "output_type": "display_data"
    }
   ],
   "source": [
    "# Aplicação do modelo nos dados de teste\n",
    "ypred = predict(modelo_rlin1, notas_valid)\n",
    "\n",
    "# Métricas de desempenho\n",
    "calcula_metricas(\"modelo_rlin1\", target_valid, ypred)\n",
    "metricas = metricas[-1,] # Remover a primeira linha (só da primeira vez)\n",
    "\n",
    "# Visualização\n",
    "metricas"
   ]
  },
  {
   "cell_type": "markdown",
   "metadata": {},
   "source": [
    "**Modelo 2**"
   ]
  },
  {
   "cell_type": "code",
   "execution_count": 217,
   "metadata": {},
   "outputs": [
    {
     "data": {
      "text/plain": [
       "\n",
       "Call:\n",
       "lm(formula = NU_NOTA_MT ~ NU_NOTA_CN + NU_NOTA_CH + NU_NOTA_LC + \n",
       "    NU_NOTA_COMP5, data = notas_train)\n",
       "\n",
       "Residuals:\n",
       "   Min     1Q Median     3Q    Max \n",
       "-460.8  -55.4   -7.9   49.4  387.6 \n",
       "\n",
       "Coefficients:\n",
       "              Estimate Std. Error t value Pr(>|t|)    \n",
       "(Intercept)    23.8602     7.5450    3.16   0.0016 ** \n",
       "NU_NOTA_CN      0.4670     0.0159   29.32  < 2e-16 ***\n",
       "NU_NOTA_CH      0.1165     0.0172    6.75  1.6e-11 ***\n",
       "NU_NOTA_LC      0.3195     0.0175   18.25  < 2e-16 ***\n",
       "NU_NOTA_COMP5   0.1468     0.0239    6.14  8.8e-10 ***\n",
       "---\n",
       "Signif. codes:  0 '***' 0.001 '**' 0.01 '*' 0.05 '.' 0.1 ' ' 1\n",
       "\n",
       "Residual standard error: 79.5 on 8101 degrees of freedom\n",
       "Multiple R-squared:  0.372,\tAdjusted R-squared:  0.371 \n",
       "F-statistic: 1.2e+03 on 4 and 8101 DF,  p-value: <2e-16\n"
      ]
     },
     "metadata": {},
     "output_type": "display_data"
    }
   ],
   "source": [
    "#  Modelo de regressão linear 2 (apenas dados relevantes)\n",
    "modelo_rlin2 = lm(NU_NOTA_MT ~ NU_NOTA_CN + NU_NOTA_CH + NU_NOTA_LC + NU_NOTA_COMP5 , data = notas_train)\n",
    "summary(modelo_rlin2)"
   ]
  },
  {
   "cell_type": "markdown",
   "metadata": {},
   "source": [
    "O modelo 2 tem o mesmo desempenho que o modelo 1, levando menos variáveis em consideração. Os dois apresentam R-squared de 0.37."
   ]
  },
  {
   "cell_type": "markdown",
   "metadata": {},
   "source": [
    "**Comparação dos dois modelos**\n",
    "\n",
    "Abaixo, podemos ver que as métricas dos dois modelos são praticamente idênticas. Sendo assim, vou salvar apenas o plot do modelo 2 para fazer a comparação final."
   ]
  },
  {
   "cell_type": "code",
   "execution_count": 218,
   "metadata": {
    "scrolled": true
   },
   "outputs": [
    {
     "data": {
      "text/html": [
       "<table>\n",
       "<caption>A matrix: 2 × 10 of type chr</caption>\n",
       "<thead>\n",
       "\t<tr><th></th><th scope=col>nome_modelo</th><th scope=col>mae</th><th scope=col>mdae</th><th scope=col>mse</th><th scope=col>rae</th><th scope=col>rmse</th><th scope=col>rrse</th><th scope=col>rse</th><th scope=col>sse</th><th scope=col>rsq</th></tr>\n",
       "</thead>\n",
       "<tbody>\n",
       "\t<tr><th scope=row>metricas</th><td>modelo_rlin1</td><td>60.7 </td><td>49.63</td><td>6124.44</td><td>0.79</td><td>78.26</td><td>0.8</td><td>0.64</td><td>12414243</td><td>0.36</td></tr>\n",
       "\t<tr><th scope=row>metricas_do_modelo</th><td>modelo_rlin2</td><td>60.66</td><td>49.81</td><td>6129.86</td><td>0.79</td><td>78.29</td><td>0.8</td><td>0.64</td><td>12425227</td><td>0.36</td></tr>\n",
       "</tbody>\n",
       "</table>\n"
      ],
      "text/latex": [
       "A matrix: 2 × 10 of type chr\n",
       "\\begin{tabular}{r|llllllllll}\n",
       "  & nome\\_modelo & mae & mdae & mse & rae & rmse & rrse & rse & sse & rsq\\\\\n",
       "\\hline\n",
       "\tmetricas & modelo\\_rlin1 & 60.7  & 49.63 & 6124.44 & 0.79 & 78.26 & 0.8 & 0.64 & 12414243 & 0.36\\\\\n",
       "\tmetricas\\_do\\_modelo & modelo\\_rlin2 & 60.66 & 49.81 & 6129.86 & 0.79 & 78.29 & 0.8 & 0.64 & 12425227 & 0.36\\\\\n",
       "\\end{tabular}\n"
      ],
      "text/markdown": [
       "\n",
       "A matrix: 2 × 10 of type chr\n",
       "\n",
       "| <!--/--> | nome_modelo | mae | mdae | mse | rae | rmse | rrse | rse | sse | rsq |\n",
       "|---|---|---|---|---|---|---|---|---|---|---|\n",
       "| metricas | modelo_rlin1 | 60.7  | 49.63 | 6124.44 | 0.79 | 78.26 | 0.8 | 0.64 | 12414243 | 0.36 |\n",
       "| metricas_do_modelo | modelo_rlin2 | 60.66 | 49.81 | 6129.86 | 0.79 | 78.29 | 0.8 | 0.64 | 12425227 | 0.36 |\n",
       "\n"
      ],
      "text/plain": [
       "                   nome_modelo  mae   mdae  mse     rae  rmse  rrse rse \n",
       "metricas           modelo_rlin1 60.7  49.63 6124.44 0.79 78.26 0.8  0.64\n",
       "metricas_do_modelo modelo_rlin2 60.66 49.81 6129.86 0.79 78.29 0.8  0.64\n",
       "                   sse      rsq \n",
       "metricas           12414243 0.36\n",
       "metricas_do_modelo 12425227 0.36"
      ]
     },
     "metadata": {},
     "output_type": "display_data"
    }
   ],
   "source": [
    "# Aplicação do modelo nos dados de teste\n",
    "ypred = predict(modelo_rlin2, notas_valid)\n",
    "\n",
    "# Métricas de desempenho\n",
    "calcula_metricas(\"modelo_rlin2\", target_valid, ypred)\n",
    "metricas"
   ]
  },
  {
   "cell_type": "code",
   "execution_count": 219,
   "metadata": {},
   "outputs": [
    {
     "data": {
      "image/png": "[encoded data removed]",
      "text/plain": [
       "plot without title"
      ]
     },
     "metadata": {
      "image/png": {
       "height": 420,
       "width": 720
      },
      "text/plain": {
       "height": 420,
       "width": 720
      }
     },
     "output_type": "display_data"
    }
   ],
   "source": [
    "# Plot dos resultados\n",
    "options(repr.plot.width=12, repr.plot.height=7)\n",
    "predicted = as.data.frame(ypred)\n",
    "actual = as.data.frame(target_valid)\n",
    "\n",
    "g1 = ggplot() + \n",
    "    geom_histogram(data = actual, aes(x = target_valid),  fill = \"darkgray\", alpha = 1, bins = 50) +\n",
    "    geom_histogram(data = predicted, aes(x = ypred),  fill = \"blue\", alpha = 0.5, bins = 50) +\n",
    "    ggtitle(\"Regressão linear 2\") + theme(plot.title = element_text(hjust = 0.5))+\n",
    "    xlab(\"Nota Obtida\") + ylab(\"Contagem das notas\")\n",
    "\n",
    "g1"
   ]
  },
  {
   "cell_type": "markdown",
   "metadata": {},
   "source": [
    "O Histograma acima mostra como ficaram distribuídas as notas previstas pelo modelo (em azul) em comparação com o dados originais (em cinza). Podemos simplificar essa comparação afirmando que quanto mais parecido o histograma azul for do cinza, maior a acurácia. Isso nem sempre é verdadeiro, mas o histograma em conjunto com as métricas nos dá uma boa idéia da precisão do modelo."
   ]
  },
  {
   "cell_type": "markdown",
   "metadata": {},
   "source": [
    "### **Árvore de decisão**\n",
    "\n",
    "**Modelo 1**\n",
    "\n",
    "A árvore de decisão geralmente não é indicada para a criação de modelos com target contínuo. Vamos ver como ela se sai em comparação com os outros modelos. Primeiro, vamos fazer um modelo simples com os parâmetros defeault:"
   ]
  },
  {
   "cell_type": "code",
   "execution_count": 57,
   "metadata": {
    "scrolled": true
   },
   "outputs": [],
   "source": [
    "# Árvore de decisão 1\n",
    "modelo_tree1 = rpart(formula = (NU_NOTA_MT) ~  ., data = notas_train, method  = \"anova\")"
   ]
  },
  {
   "cell_type": "code",
   "execution_count": 220,
   "metadata": {},
   "outputs": [
    {
     "data": {
      "text/html": [
       "<table>\n",
       "<caption>A matrix: 3 × 10 of type chr</caption>\n",
       "<thead>\n",
       "\t<tr><th></th><th scope=col>nome_modelo</th><th scope=col>mae</th><th scope=col>mdae</th><th scope=col>mse</th><th scope=col>rae</th><th scope=col>rmse</th><th scope=col>rrse</th><th scope=col>rse</th><th scope=col>sse</th><th scope=col>rsq</th></tr>\n",
       "</thead>\n",
       "<tbody>\n",
       "\t<tr><th scope=row>metricas</th><td>modelo_rlin1</td><td>60.7 </td><td>49.63</td><td>6124.44</td><td>0.79</td><td>78.26</td><td>0.8</td><td>0.64</td><td>12414243</td><td>0.36</td></tr>\n",
       "\t<tr><th scope=row>metricas_do_modelo</th><td>modelo_rlin2</td><td>60.66</td><td>49.81</td><td>6129.86</td><td>0.79</td><td>78.29</td><td>0.8</td><td>0.64</td><td>12425227</td><td>0.36</td></tr>\n",
       "\t<tr><th scope=row>metricas_do_modelo</th><td>modelo_tree1</td><td>61.02</td><td>50.85</td><td>6104.25</td><td>0.8 </td><td>78.13</td><td>0.8</td><td>0.64</td><td>12373320</td><td>0.37</td></tr>\n",
       "</tbody>\n",
       "</table>\n"
      ],
      "text/latex": [
       "A matrix: 3 × 10 of type chr\n",
       "\\begin{tabular}{r|llllllllll}\n",
       "  & nome\\_modelo & mae & mdae & mse & rae & rmse & rrse & rse & sse & rsq\\\\\n",
       "\\hline\n",
       "\tmetricas & modelo\\_rlin1 & 60.7  & 49.63 & 6124.44 & 0.79 & 78.26 & 0.8 & 0.64 & 12414243 & 0.36\\\\\n",
       "\tmetricas\\_do\\_modelo & modelo\\_rlin2 & 60.66 & 49.81 & 6129.86 & 0.79 & 78.29 & 0.8 & 0.64 & 12425227 & 0.36\\\\\n",
       "\tmetricas\\_do\\_modelo & modelo\\_tree1 & 61.02 & 50.85 & 6104.25 & 0.8  & 78.13 & 0.8 & 0.64 & 12373320 & 0.37\\\\\n",
       "\\end{tabular}\n"
      ],
      "text/markdown": [
       "\n",
       "A matrix: 3 × 10 of type chr\n",
       "\n",
       "| <!--/--> | nome_modelo | mae | mdae | mse | rae | rmse | rrse | rse | sse | rsq |\n",
       "|---|---|---|---|---|---|---|---|---|---|---|\n",
       "| metricas | modelo_rlin1 | 60.7  | 49.63 | 6124.44 | 0.79 | 78.26 | 0.8 | 0.64 | 12414243 | 0.36 |\n",
       "| metricas_do_modelo | modelo_rlin2 | 60.66 | 49.81 | 6129.86 | 0.79 | 78.29 | 0.8 | 0.64 | 12425227 | 0.36 |\n",
       "| metricas_do_modelo | modelo_tree1 | 61.02 | 50.85 | 6104.25 | 0.8  | 78.13 | 0.8 | 0.64 | 12373320 | 0.37 |\n",
       "\n"
      ],
      "text/plain": [
       "                   nome_modelo  mae   mdae  mse     rae  rmse  rrse rse \n",
       "metricas           modelo_rlin1 60.7  49.63 6124.44 0.79 78.26 0.8  0.64\n",
       "metricas_do_modelo modelo_rlin2 60.66 49.81 6129.86 0.79 78.29 0.8  0.64\n",
       "metricas_do_modelo modelo_tree1 61.02 50.85 6104.25 0.8  78.13 0.8  0.64\n",
       "                   sse      rsq \n",
       "metricas           12414243 0.36\n",
       "metricas_do_modelo 12425227 0.36\n",
       "metricas_do_modelo 12373320 0.37"
      ]
     },
     "metadata": {},
     "output_type": "display_data"
    }
   ],
   "source": [
    "# Aplicação do modelo nos dados de teste\n",
    "ypred = predict(modelo_tree1, notas_valid)\n",
    "\n",
    "# Métricas de desempenho\n",
    "calcula_metricas(\"modelo_tree1\", target_valid, ypred)\n",
    "metricas"
   ]
  },
  {
   "cell_type": "markdown",
   "metadata": {},
   "source": [
    "Pelas métricas, o modelo ficou muito parecido com o modelo de regressão linear. Ele apresentou resultados similares em todas as métricas. Vamos ver como o plot ficou com esse modelo:"
   ]
  },
  {
   "cell_type": "code",
   "execution_count": 59,
   "metadata": {},
   "outputs": [
    {
     "data": {
      "image/png": "[encoded data removed]",
      "text/plain": [
       "plot without title"
      ]
     },
     "metadata": {
      "image/png": {
       "height": 420,
       "width": 720
      },
      "text/plain": {
       "height": 420,
       "width": 720
      }
     },
     "output_type": "display_data"
    }
   ],
   "source": [
    "# Plot dos resultados\n",
    "options(repr.plot.width=12, repr.plot.height=7)\n",
    "predicted = as.data.frame(ypred)\n",
    "actual = as.data.frame(target_valid)\n",
    "\n",
    "g2 = ggplot() + \n",
    "    geom_histogram(data = actual, aes(x = target_valid),  fill = \"darkgray\", alpha = 01, bins = 50) +\n",
    "    geom_histogram(data = predicted, aes(x = ypred),  fill = \"blue\", alpha = 0.5, bins = 50) +\n",
    "    ggtitle(\"Árvore de decisão 1\") + theme(plot.title = element_text(hjust = 0.5))+\n",
    "    xlab(\"Nota Obtida\") + ylab(\"Contagem das notas\")\n",
    "\n",
    "g2"
   ]
  },
  {
   "cell_type": "markdown",
   "metadata": {},
   "source": [
    "Esse modelo é péssimo!! Ele pode apresentar métricas OK, porém, podemos ver que os resultados estão concentrados em pontos específicos. Vamos ver quais foram as decisões que construíram essa árvore:"
   ]
  },
  {
   "cell_type": "code",
   "execution_count": 60,
   "metadata": {},
   "outputs": [
    {
     "data": {
      "image/png": "[encoded data removed]",
      "text/plain": [
       "plot without title"
      ]
     },
     "metadata": {
      "image/png": {
       "height": 420,
       "width": 720
      },
      "text/plain": {
       "height": 420,
       "width": 720
      }
     },
     "output_type": "display_data"
    }
   ],
   "source": [
    "# Plot da árvore\n",
    "rpart.plot(modelo_tree1)"
   ]
  },
  {
   "cell_type": "markdown",
   "metadata": {},
   "source": [
    "Aqui está o motivo da decision tree não ser a melhor escolha para variáveis contínuas. Ela possui um número limitado de respostas e pudemos ver graficamente como isso ocorre. Ainda assim, podemos melhorar um pouco esse modelo. Vamos ver o que acontece se mudamos um alguns parâmetros default:"
   ]
  },
  {
   "cell_type": "markdown",
   "metadata": {},
   "source": [
    "**Modelo 2**"
   ]
  },
  {
   "cell_type": "code",
   "execution_count": 61,
   "metadata": {},
   "outputs": [],
   "source": [
    "# Parâmetros \n",
    "control = rpart.control(minbucket = 50, cp = 0.00001)"
   ]
  },
  {
   "cell_type": "markdown",
   "metadata": {},
   "source": [
    "- `minbucket`: nº míminmo de leaf nodes. No outro modelo tivemos poucas leaf nodes. Vamos aumentar de 7 (defeault) para 50, que é o número de bins que estamos mostrando no histograma.\n",
    "- `cp`: complexity parameter. Default = 0.01 significa que se no próximo split não melhorar o nosso r-squared em pelo menos 0.01, então o algorítimo deve parar. Podemos colocar um valor muito baixo de cp, assim, o algorítimo irá demorar muito para alcançar esse valor e fará mais splits, o que melhorará a cara do nosso gráfico. Vou mudar de 0.01 para 0.0001"
   ]
  },
  {
   "cell_type": "code",
   "execution_count": 221,
   "metadata": {},
   "outputs": [
    {
     "data": {
      "text/html": [
       "<table>\n",
       "<caption>A matrix: 4 × 10 of type chr</caption>\n",
       "<thead>\n",
       "\t<tr><th></th><th scope=col>nome_modelo</th><th scope=col>mae</th><th scope=col>mdae</th><th scope=col>mse</th><th scope=col>rae</th><th scope=col>rmse</th><th scope=col>rrse</th><th scope=col>rse</th><th scope=col>sse</th><th scope=col>rsq</th></tr>\n",
       "</thead>\n",
       "<tbody>\n",
       "\t<tr><th scope=row>metricas</th><td>modelo_rlin1</td><td>60.7 </td><td>49.63</td><td>6124.44</td><td>0.79</td><td>78.26</td><td>0.8 </td><td>0.64</td><td>12414243</td><td>0.36</td></tr>\n",
       "\t<tr><th scope=row>metricas_do_modelo</th><td>modelo_rlin2</td><td>60.66</td><td>49.81</td><td>6129.86</td><td>0.79</td><td>78.29</td><td>0.8 </td><td>0.64</td><td>12425227</td><td>0.36</td></tr>\n",
       "\t<tr><th scope=row>metricas_do_modelo</th><td>modelo_tree1</td><td>61.02</td><td>50.85</td><td>6104.25</td><td>0.8 </td><td>78.13</td><td>0.8 </td><td>0.64</td><td>12373320</td><td>0.37</td></tr>\n",
       "\t<tr><th scope=row>metricas_do_modelo</th><td>modelo_tree2</td><td>59.21</td><td>48.7 </td><td>5797.14</td><td>0.77</td><td>76.14</td><td>0.78</td><td>0.61</td><td>11750801</td><td>0.4 </td></tr>\n",
       "</tbody>\n",
       "</table>\n"
      ],
      "text/latex": [
       "A matrix: 4 × 10 of type chr\n",
       "\\begin{tabular}{r|llllllllll}\n",
       "  & nome\\_modelo & mae & mdae & mse & rae & rmse & rrse & rse & sse & rsq\\\\\n",
       "\\hline\n",
       "\tmetricas & modelo\\_rlin1 & 60.7  & 49.63 & 6124.44 & 0.79 & 78.26 & 0.8  & 0.64 & 12414243 & 0.36\\\\\n",
       "\tmetricas\\_do\\_modelo & modelo\\_rlin2 & 60.66 & 49.81 & 6129.86 & 0.79 & 78.29 & 0.8  & 0.64 & 12425227 & 0.36\\\\\n",
       "\tmetricas\\_do\\_modelo & modelo\\_tree1 & 61.02 & 50.85 & 6104.25 & 0.8  & 78.13 & 0.8  & 0.64 & 12373320 & 0.37\\\\\n",
       "\tmetricas\\_do\\_modelo & modelo\\_tree2 & 59.21 & 48.7  & 5797.14 & 0.77 & 76.14 & 0.78 & 0.61 & 11750801 & 0.4 \\\\\n",
       "\\end{tabular}\n"
      ],
      "text/markdown": [
       "\n",
       "A matrix: 4 × 10 of type chr\n",
       "\n",
       "| <!--/--> | nome_modelo | mae | mdae | mse | rae | rmse | rrse | rse | sse | rsq |\n",
       "|---|---|---|---|---|---|---|---|---|---|---|\n",
       "| metricas | modelo_rlin1 | 60.7  | 49.63 | 6124.44 | 0.79 | 78.26 | 0.8  | 0.64 | 12414243 | 0.36 |\n",
       "| metricas_do_modelo | modelo_rlin2 | 60.66 | 49.81 | 6129.86 | 0.79 | 78.29 | 0.8  | 0.64 | 12425227 | 0.36 |\n",
       "| metricas_do_modelo | modelo_tree1 | 61.02 | 50.85 | 6104.25 | 0.8  | 78.13 | 0.8  | 0.64 | 12373320 | 0.37 |\n",
       "| metricas_do_modelo | modelo_tree2 | 59.21 | 48.7  | 5797.14 | 0.77 | 76.14 | 0.78 | 0.61 | 11750801 | 0.4  |\n",
       "\n"
      ],
      "text/plain": [
       "                   nome_modelo  mae   mdae  mse     rae  rmse  rrse rse \n",
       "metricas           modelo_rlin1 60.7  49.63 6124.44 0.79 78.26 0.8  0.64\n",
       "metricas_do_modelo modelo_rlin2 60.66 49.81 6129.86 0.79 78.29 0.8  0.64\n",
       "metricas_do_modelo modelo_tree1 61.02 50.85 6104.25 0.8  78.13 0.8  0.64\n",
       "metricas_do_modelo modelo_tree2 59.21 48.7  5797.14 0.77 76.14 0.78 0.61\n",
       "                   sse      rsq \n",
       "metricas           12414243 0.36\n",
       "metricas_do_modelo 12425227 0.36\n",
       "metricas_do_modelo 12373320 0.37\n",
       "metricas_do_modelo 11750801 0.4 "
      ]
     },
     "metadata": {},
     "output_type": "display_data"
    }
   ],
   "source": [
    "# Criação do modelo (com parâmetros de controle)\n",
    "modelo_tree2 = rpart(formula = (NU_NOTA_MT) ~  ., data = notas_train, method  = \"anova\", control = control)\n",
    "\n",
    "# Aplicação do modelo nos dados de teste\n",
    "ypred = predict(modelo_tree2, notas_valid)\n",
    "\n",
    "# Métricas de desempenho\n",
    "calcula_metricas(\"modelo_tree2\", target_valid, ypred)\n",
    "metricas"
   ]
  },
  {
   "cell_type": "code",
   "execution_count": 222,
   "metadata": {},
   "outputs": [
    {
     "data": {
      "image/png": "[encoded data removed]",
      "text/plain": [
       "plot without title"
      ]
     },
     "metadata": {
      "image/png": {
       "height": 420,
       "width": 720
      },
      "text/plain": {
       "height": 420,
       "width": 720
      }
     },
     "output_type": "display_data"
    }
   ],
   "source": [
    "# Plot dos resultados\n",
    "options(repr.plot.width=12, repr.plot.height=7)\n",
    "predicted = as.data.frame(ypred)\n",
    "actual = as.data.frame(target_valid)\n",
    "\n",
    "g3 = ggplot() + \n",
    "    geom_histogram(data = actual, aes(x = target_valid),  fill = \"darkgray\", alpha = 01, bins = 50) +\n",
    "    geom_histogram(data = predicted, aes(x = ypred),  fill = \"blue\", alpha = 0.5, bins = 50) +\n",
    "    ggtitle(\"Árvore de decisão 2\") + theme(plot.title = element_text(hjust = 0.5))+\n",
    "    xlab(\"Nota Obtida\") + ylab(\"Contagem das notas\")\n",
    "\n",
    "g3"
   ]
  },
  {
   "cell_type": "markdown",
   "metadata": {},
   "source": [
    "As métricas melhoraram um pouco e o gráfico agora parece algo decente. A decision tree pode até não ser a mais indicada quando se trata de dados contínuos mas nesse caso ela se saiu melhor do que a simples regressão linear."
   ]
  },
  {
   "cell_type": "markdown",
   "metadata": {},
   "source": [
    "**Plot da decision tree**\n",
    "\n",
    "Resultados melhores... Mas uma árvore monstruosa! Vamos seguir em frente com outros tipos de modelos."
   ]
  },
  {
   "cell_type": "code",
   "execution_count": 223,
   "metadata": {},
   "outputs": [
    {
     "name": "stderr",
     "output_type": "stream",
     "text": [
      "Warning message:\n",
      "\"labs do not fit even at cex 0.15, there may be some overplotting\"\n"
     ]
    },
    {
     "data": {
      "image/png": "[encoded data removed]",
      "text/plain": [
       "plot without title"
      ]
     },
     "metadata": {
      "image/png": {
       "height": 420,
       "width": 720
      },
      "text/plain": {
       "height": 420,
       "width": 720
      }
     },
     "output_type": "display_data"
    }
   ],
   "source": [
    "# Plot sem prune\n",
    "rpart.plot(modelo_tree2)"
   ]
  },
  {
   "cell_type": "markdown",
   "metadata": {},
   "source": [
    "### **Random Forest**\n",
    "\n",
    "O Random Forest é um algorítimo ótimo, porém, o modelo geralmente demora para ser treinado. Vamos ver como ele se sai:"
   ]
  },
  {
   "cell_type": "code",
   "execution_count": 224,
   "metadata": {},
   "outputs": [
    {
     "data": {
      "text/plain": [
       "\n",
       "Call:\n",
       " randomForest(formula = NU_NOTA_MT ~ ., data = notas_train, proximity = TRUE) \n",
       "               Type of random forest: regression\n",
       "                     Number of trees: 500\n",
       "No. of variables tried at each split: 3\n",
       "\n",
       "          Mean of squared residuals: 5847.4\n",
       "                    % Var explained: 41.87"
      ]
     },
     "metadata": {},
     "output_type": "display_data"
    }
   ],
   "source": [
    "# Criação do modelo\n",
    "modelo_rf = randomForest(NU_NOTA_MT ~ ., data=notas_train, proximity=TRUE)\n",
    "\n",
    "# Resumo do modelo\n",
    "modelo_rf"
   ]
  },
  {
   "cell_type": "code",
   "execution_count": 232,
   "metadata": {},
   "outputs": [
    {
     "data": {
      "text/html": [
       "<table>\n",
       "<caption>A matrix: 5 × 10 of type chr</caption>\n",
       "<thead>\n",
       "\t<tr><th></th><th scope=col>nome_modelo</th><th scope=col>mae</th><th scope=col>mdae</th><th scope=col>mse</th><th scope=col>rae</th><th scope=col>rmse</th><th scope=col>rrse</th><th scope=col>rse</th><th scope=col>sse</th><th scope=col>rsq</th></tr>\n",
       "</thead>\n",
       "<tbody>\n",
       "\t<tr><th scope=row>metricas</th><td>modelo_rlin1</td><td>60.7 </td><td>49.63</td><td>6124.44</td><td>0.79</td><td>78.26</td><td>0.8 </td><td>0.64</td><td>12414243</td><td>0.36</td></tr>\n",
       "\t<tr><th scope=row>metricas_do_modelo</th><td>modelo_rlin2</td><td>60.66</td><td>49.81</td><td>6129.86</td><td>0.79</td><td>78.29</td><td>0.8 </td><td>0.64</td><td>12425227</td><td>0.36</td></tr>\n",
       "\t<tr><th scope=row>metricas_do_modelo</th><td>modelo_tree1</td><td>61.02</td><td>50.85</td><td>6104.25</td><td>0.8 </td><td>78.13</td><td>0.8 </td><td>0.64</td><td>12373320</td><td>0.37</td></tr>\n",
       "\t<tr><th scope=row>metricas_do_modelo</th><td>modelo_tree2</td><td>59.21</td><td>48.7 </td><td>5797.14</td><td>0.77</td><td>76.14</td><td>0.78</td><td>0.61</td><td>11750801</td><td>0.4 </td></tr>\n",
       "\t<tr><th scope=row>metricas_do_modelo</th><td>modelo_rf   </td><td>58.54</td><td>49.61</td><td>5597.62</td><td>0.77</td><td>74.82</td><td>0.76</td><td>0.58</td><td>11346369</td><td>0.42</td></tr>\n",
       "</tbody>\n",
       "</table>\n"
      ],
      "text/latex": [
       "A matrix: 5 × 10 of type chr\n",
       "\\begin{tabular}{r|llllllllll}\n",
       "  & nome\\_modelo & mae & mdae & mse & rae & rmse & rrse & rse & sse & rsq\\\\\n",
       "\\hline\n",
       "\tmetricas & modelo\\_rlin1 & 60.7  & 49.63 & 6124.44 & 0.79 & 78.26 & 0.8  & 0.64 & 12414243 & 0.36\\\\\n",
       "\tmetricas\\_do\\_modelo & modelo\\_rlin2 & 60.66 & 49.81 & 6129.86 & 0.79 & 78.29 & 0.8  & 0.64 & 12425227 & 0.36\\\\\n",
       "\tmetricas\\_do\\_modelo & modelo\\_tree1 & 61.02 & 50.85 & 6104.25 & 0.8  & 78.13 & 0.8  & 0.64 & 12373320 & 0.37\\\\\n",
       "\tmetricas\\_do\\_modelo & modelo\\_tree2 & 59.21 & 48.7  & 5797.14 & 0.77 & 76.14 & 0.78 & 0.61 & 11750801 & 0.4 \\\\\n",
       "\tmetricas\\_do\\_modelo & modelo\\_rf    & 58.54 & 49.61 & 5597.62 & 0.77 & 74.82 & 0.76 & 0.58 & 11346369 & 0.42\\\\\n",
       "\\end{tabular}\n"
      ],
      "text/markdown": [
       "\n",
       "A matrix: 5 × 10 of type chr\n",
       "\n",
       "| <!--/--> | nome_modelo | mae | mdae | mse | rae | rmse | rrse | rse | sse | rsq |\n",
       "|---|---|---|---|---|---|---|---|---|---|---|\n",
       "| metricas | modelo_rlin1 | 60.7  | 49.63 | 6124.44 | 0.79 | 78.26 | 0.8  | 0.64 | 12414243 | 0.36 |\n",
       "| metricas_do_modelo | modelo_rlin2 | 60.66 | 49.81 | 6129.86 | 0.79 | 78.29 | 0.8  | 0.64 | 12425227 | 0.36 |\n",
       "| metricas_do_modelo | modelo_tree1 | 61.02 | 50.85 | 6104.25 | 0.8  | 78.13 | 0.8  | 0.64 | 12373320 | 0.37 |\n",
       "| metricas_do_modelo | modelo_tree2 | 59.21 | 48.7  | 5797.14 | 0.77 | 76.14 | 0.78 | 0.61 | 11750801 | 0.4  |\n",
       "| metricas_do_modelo | modelo_rf    | 58.54 | 49.61 | 5597.62 | 0.77 | 74.82 | 0.76 | 0.58 | 11346369 | 0.42 |\n",
       "\n"
      ],
      "text/plain": [
       "                   nome_modelo  mae   mdae  mse     rae  rmse  rrse rse \n",
       "metricas           modelo_rlin1 60.7  49.63 6124.44 0.79 78.26 0.8  0.64\n",
       "metricas_do_modelo modelo_rlin2 60.66 49.81 6129.86 0.79 78.29 0.8  0.64\n",
       "metricas_do_modelo modelo_tree1 61.02 50.85 6104.25 0.8  78.13 0.8  0.64\n",
       "metricas_do_modelo modelo_tree2 59.21 48.7  5797.14 0.77 76.14 0.78 0.61\n",
       "metricas_do_modelo modelo_rf    58.54 49.61 5597.62 0.77 74.82 0.76 0.58\n",
       "                   sse      rsq \n",
       "metricas           12414243 0.36\n",
       "metricas_do_modelo 12425227 0.36\n",
       "metricas_do_modelo 12373320 0.37\n",
       "metricas_do_modelo 11750801 0.4 \n",
       "metricas_do_modelo 11346369 0.42"
      ]
     },
     "metadata": {},
     "output_type": "display_data"
    }
   ],
   "source": [
    "# Aplicação do modelo nos dados de teste\n",
    "ypred = predict(modelo_rf, notas_valid)\n",
    "\n",
    "# Métricas de desempenho\n",
    "calcula_metricas(\"modelo_rf\", target_valid, ypred)\n",
    "metricas"
   ]
  },
  {
   "cell_type": "code",
   "execution_count": 233,
   "metadata": {
    "scrolled": false
   },
   "outputs": [
    {
     "data": {
      "image/png": "[encoded data removed]",
      "text/plain": [
       "plot without title"
      ]
     },
     "metadata": {
      "image/png": {
       "height": 420,
       "width": 720
      },
      "text/plain": {
       "height": 420,
       "width": 720
      }
     },
     "output_type": "display_data"
    }
   ],
   "source": [
    "# Plot dos resultados\n",
    "options(repr.plot.width=12, repr.plot.height=7)\n",
    "predicted = as.data.frame(ypred)\n",
    "actual = as.data.frame(target_valid)\n",
    "\n",
    "g4 = ggplot() + \n",
    "    geom_histogram(data = actual, aes(x = target_valid),  fill = \"darkgray\", alpha = 01, bins = 50) +\n",
    "    geom_histogram(data = predicted, aes(x = ypred),  fill = \"blue\", alpha = 0.5, bins = 50) +\n",
    "    ggtitle(\"Random Forest\") + theme(plot.title = element_text(hjust = 0.5))+\n",
    "    xlab(\"Nota Obtida\") + ylab(\"Contagem das notas\")\n",
    "\n",
    "g4"
   ]
  },
  {
   "cell_type": "markdown",
   "metadata": {},
   "source": [
    "As métricas melhoraram um pouco mas o modelo passou de menos de 1 segundo para 1 minuto e meio para ser treinado. \n",
    "\n",
    "Fiz um teste aumentando o ntrees da Random Forest e o resultado não melhorou, manteremos apenas o modelo com parâmetros default.\n",
    "\n",
    "O próximo modelo é mais eficiente em termos de velocidade e costuma apresentar uma boa precisão também."
   ]
  },
  {
   "cell_type": "markdown",
   "metadata": {},
   "source": [
    "### **XGBoost**\n",
    "\n",
    "\n",
    "**Modelo 1**\n",
    "\n",
    "O XGBoost é um algorítimo rápido e que tem uma precisão muito boa. Como será que ele se sai com os parâmetros default?"
   ]
  },
  {
   "cell_type": "code",
   "execution_count": 247,
   "metadata": {},
   "outputs": [
    {
     "name": "stdout",
     "output_type": "stream",
     "text": [
      "Class 'xgb.DMatrix' <externalptr> \n",
      " - attr(*, \".Dimnames\")=List of 2\n",
      "  ..$ : NULL\n",
      "  ..$ : chr [1:9] \"NU_NOTA_CN\" \"NU_NOTA_CH\" \"NU_NOTA_LC\" \"NU_NOTA_COMP1\" ...\n"
     ]
    }
   ],
   "source": [
    "# Separando dados para treino e dados da variável target\n",
    "data = as.matrix(notas_train[1:9]) \n",
    "label = notas_train[[10]]\n",
    "\n",
    "# Criando o objeto de entrada - Classe 'xgb.DMatrix'\n",
    "xgmat = xgb.DMatrix(data, label = label)\n",
    "str(xgmat)"
   ]
  },
  {
   "cell_type": "code",
   "execution_count": 248,
   "metadata": {},
   "outputs": [
    {
     "data": {
      "text/html": [
       "<table>\n",
       "<caption>A matrix: 6 × 10 of type chr</caption>\n",
       "<thead>\n",
       "\t<tr><th></th><th scope=col>nome_modelo</th><th scope=col>mae</th><th scope=col>mdae</th><th scope=col>mse</th><th scope=col>rae</th><th scope=col>rmse</th><th scope=col>rrse</th><th scope=col>rse</th><th scope=col>sse</th><th scope=col>rsq</th></tr>\n",
       "</thead>\n",
       "<tbody>\n",
       "\t<tr><th scope=row>metricas</th><td>modelo_rlin1</td><td>60.7 </td><td>49.63</td><td>6124.44</td><td>0.79</td><td>78.26</td><td>0.8 </td><td>0.64</td><td>12414243</td><td>0.36</td></tr>\n",
       "\t<tr><th scope=row>metricas_do_modelo</th><td>modelo_rlin2</td><td>60.66</td><td>49.81</td><td>6129.86</td><td>0.79</td><td>78.29</td><td>0.8 </td><td>0.64</td><td>12425227</td><td>0.36</td></tr>\n",
       "\t<tr><th scope=row>metricas_do_modelo</th><td>modelo_tree1</td><td>61.02</td><td>50.85</td><td>6104.25</td><td>0.8 </td><td>78.13</td><td>0.8 </td><td>0.64</td><td>12373320</td><td>0.37</td></tr>\n",
       "\t<tr><th scope=row>metricas_do_modelo</th><td>modelo_tree2</td><td>59.21</td><td>48.7 </td><td>5797.14</td><td>0.77</td><td>76.14</td><td>0.78</td><td>0.61</td><td>11750801</td><td>0.4 </td></tr>\n",
       "\t<tr><th scope=row>metricas_do_modelo</th><td>modelo_rf   </td><td>58.54</td><td>49.61</td><td>5597.62</td><td>0.77</td><td>74.82</td><td>0.76</td><td>0.58</td><td>11346369</td><td>0.42</td></tr>\n",
       "\t<tr><th scope=row>metricas_do_modelo</th><td>modelo_xgb1 </td><td>61.48</td><td>50.27</td><td>6188.88</td><td>0.8 </td><td>78.67</td><td>0.8 </td><td>0.65</td><td>12544853</td><td>0.38</td></tr>\n",
       "</tbody>\n",
       "</table>\n"
      ],
      "text/latex": [
       "A matrix: 6 × 10 of type chr\n",
       "\\begin{tabular}{r|llllllllll}\n",
       "  & nome\\_modelo & mae & mdae & mse & rae & rmse & rrse & rse & sse & rsq\\\\\n",
       "\\hline\n",
       "\tmetricas & modelo\\_rlin1 & 60.7  & 49.63 & 6124.44 & 0.79 & 78.26 & 0.8  & 0.64 & 12414243 & 0.36\\\\\n",
       "\tmetricas\\_do\\_modelo & modelo\\_rlin2 & 60.66 & 49.81 & 6129.86 & 0.79 & 78.29 & 0.8  & 0.64 & 12425227 & 0.36\\\\\n",
       "\tmetricas\\_do\\_modelo & modelo\\_tree1 & 61.02 & 50.85 & 6104.25 & 0.8  & 78.13 & 0.8  & 0.64 & 12373320 & 0.37\\\\\n",
       "\tmetricas\\_do\\_modelo & modelo\\_tree2 & 59.21 & 48.7  & 5797.14 & 0.77 & 76.14 & 0.78 & 0.61 & 11750801 & 0.4 \\\\\n",
       "\tmetricas\\_do\\_modelo & modelo\\_rf    & 58.54 & 49.61 & 5597.62 & 0.77 & 74.82 & 0.76 & 0.58 & 11346369 & 0.42\\\\\n",
       "\tmetricas\\_do\\_modelo & modelo\\_xgb1  & 61.48 & 50.27 & 6188.88 & 0.8  & 78.67 & 0.8  & 0.65 & 12544853 & 0.38\\\\\n",
       "\\end{tabular}\n"
      ],
      "text/markdown": [
       "\n",
       "A matrix: 6 × 10 of type chr\n",
       "\n",
       "| <!--/--> | nome_modelo | mae | mdae | mse | rae | rmse | rrse | rse | sse | rsq |\n",
       "|---|---|---|---|---|---|---|---|---|---|---|\n",
       "| metricas | modelo_rlin1 | 60.7  | 49.63 | 6124.44 | 0.79 | 78.26 | 0.8  | 0.64 | 12414243 | 0.36 |\n",
       "| metricas_do_modelo | modelo_rlin2 | 60.66 | 49.81 | 6129.86 | 0.79 | 78.29 | 0.8  | 0.64 | 12425227 | 0.36 |\n",
       "| metricas_do_modelo | modelo_tree1 | 61.02 | 50.85 | 6104.25 | 0.8  | 78.13 | 0.8  | 0.64 | 12373320 | 0.37 |\n",
       "| metricas_do_modelo | modelo_tree2 | 59.21 | 48.7  | 5797.14 | 0.77 | 76.14 | 0.78 | 0.61 | 11750801 | 0.4  |\n",
       "| metricas_do_modelo | modelo_rf    | 58.54 | 49.61 | 5597.62 | 0.77 | 74.82 | 0.76 | 0.58 | 11346369 | 0.42 |\n",
       "| metricas_do_modelo | modelo_xgb1  | 61.48 | 50.27 | 6188.88 | 0.8  | 78.67 | 0.8  | 0.65 | 12544853 | 0.38 |\n",
       "\n"
      ],
      "text/plain": [
       "                   nome_modelo  mae   mdae  mse     rae  rmse  rrse rse \n",
       "metricas           modelo_rlin1 60.7  49.63 6124.44 0.79 78.26 0.8  0.64\n",
       "metricas_do_modelo modelo_rlin2 60.66 49.81 6129.86 0.79 78.29 0.8  0.64\n",
       "metricas_do_modelo modelo_tree1 61.02 50.85 6104.25 0.8  78.13 0.8  0.64\n",
       "metricas_do_modelo modelo_tree2 59.21 48.7  5797.14 0.77 76.14 0.78 0.61\n",
       "metricas_do_modelo modelo_rf    58.54 49.61 5597.62 0.77 74.82 0.76 0.58\n",
       "metricas_do_modelo modelo_xgb1  61.48 50.27 6188.88 0.8  78.67 0.8  0.65\n",
       "                   sse      rsq \n",
       "metricas           12414243 0.36\n",
       "metricas_do_modelo 12425227 0.36\n",
       "metricas_do_modelo 12373320 0.37\n",
       "metricas_do_modelo 11750801 0.4 \n",
       "metricas_do_modelo 11346369 0.42\n",
       "metricas_do_modelo 12544853 0.38"
      ]
     },
     "metadata": {},
     "output_type": "display_data"
    }
   ],
   "source": [
    "# Criação do modelo\n",
    "modelo_xgb1 = xgboost(data = xgmat, nround = 150, verbose = FALSE)\n",
    "\n",
    "# Dados de entrada (Treino) \n",
    "data = as.matrix(notas_valid)\n",
    "xgmat = xgb.DMatrix(data)\n",
    "\n",
    "# Aplicação do modelo nos dados de teste\n",
    "ypred = predict(modelo_xgb1, xgmat)\n",
    "\n",
    "# Métricas de desempenho\n",
    "calcula_metricas(\"modelo_xgb1\", target_valid, ypred)\n",
    "metricas"
   ]
  },
  {
   "cell_type": "code",
   "execution_count": 249,
   "metadata": {},
   "outputs": [
    {
     "data": {
      "image/png": "[encoded data removed]",
      "text/plain": [
       "plot without title"
      ]
     },
     "metadata": {
      "image/png": {
       "height": 420,
       "width": 720
      },
      "text/plain": {
       "height": 420,
       "width": 720
      }
     },
     "output_type": "display_data"
    }
   ],
   "source": [
    "# Plot dos resultados\n",
    "options(repr.plot.width=12, repr.plot.height=7)\n",
    "predicted = as.data.frame(ypred)\n",
    "actual = as.data.frame(target_valid)\n",
    "\n",
    "g5 = ggplot() + \n",
    "    geom_histogram(data = actual, aes(x = target_valid),  fill = \"darkgray\", alpha = 01, bins = 50) +\n",
    "    geom_histogram(data = predicted, aes(x = ypred),  fill = \"blue\", alpha = 0.5, bins = 50) +\n",
    "    ggtitle(\"XGBoost 1\") + theme(plot.title = element_text(hjust = 0.5))+\n",
    "    xlab(\"Nota Obtida\") + ylab(\"Contagem das notas\")\n",
    "\n",
    "g5"
   ]
  },
  {
   "cell_type": "markdown",
   "metadata": {},
   "source": [
    "Em relação às métricas. O XGBoost demonstrou uma precisão menor do que o Random Forest e o histograma dos dois ficou bem parecido. Entretndo, vale ressaltar que o XGBoost foi extremamente rápido e demorou menos de 1 segundo para treinar o algorítimo, sendo que o Random Forest demorou cerca de 3 minutos."
   ]
  },
  {
   "cell_type": "markdown",
   "metadata": {},
   "source": [
    "**Modelo 2**"
   ]
  },
  {
   "cell_type": "code",
   "execution_count": 250,
   "metadata": {},
   "outputs": [
    {
     "data": {
      "text/html": [
       "<table>\n",
       "<caption>A matrix: 7 × 10 of type chr</caption>\n",
       "<thead>\n",
       "\t<tr><th></th><th scope=col>nome_modelo</th><th scope=col>mae</th><th scope=col>mdae</th><th scope=col>mse</th><th scope=col>rae</th><th scope=col>rmse</th><th scope=col>rrse</th><th scope=col>rse</th><th scope=col>sse</th><th scope=col>rsq</th></tr>\n",
       "</thead>\n",
       "<tbody>\n",
       "\t<tr><th scope=row>metricas</th><td>modelo_rlin1</td><td>60.7 </td><td>49.63</td><td>6124.44</td><td>0.79</td><td>78.26</td><td>0.8 </td><td>0.64</td><td>12414243</td><td>0.36</td></tr>\n",
       "\t<tr><th scope=row>metricas_do_modelo</th><td>modelo_rlin2</td><td>60.66</td><td>49.81</td><td>6129.86</td><td>0.79</td><td>78.29</td><td>0.8 </td><td>0.64</td><td>12425227</td><td>0.36</td></tr>\n",
       "\t<tr><th scope=row>metricas_do_modelo</th><td>modelo_tree1</td><td>61.02</td><td>50.85</td><td>6104.25</td><td>0.8 </td><td>78.13</td><td>0.8 </td><td>0.64</td><td>12373320</td><td>0.37</td></tr>\n",
       "\t<tr><th scope=row>metricas_do_modelo</th><td>modelo_tree2</td><td>59.21</td><td>48.7 </td><td>5797.14</td><td>0.77</td><td>76.14</td><td>0.78</td><td>0.61</td><td>11750801</td><td>0.4 </td></tr>\n",
       "\t<tr><th scope=row>metricas_do_modelo</th><td>modelo_rf   </td><td>58.54</td><td>49.61</td><td>5597.62</td><td>0.77</td><td>74.82</td><td>0.76</td><td>0.58</td><td>11346369</td><td>0.42</td></tr>\n",
       "\t<tr><th scope=row>metricas_do_modelo</th><td>modelo_xgb1 </td><td>61.48</td><td>50.27</td><td>6188.88</td><td>0.8 </td><td>78.67</td><td>0.8 </td><td>0.65</td><td>12544853</td><td>0.38</td></tr>\n",
       "\t<tr><th scope=row>metricas_do_modelo</th><td>modelo_xgb2 </td><td>57.83</td><td>47.79</td><td>5482.62</td><td>0.76</td><td>74.04</td><td>0.76</td><td>0.57</td><td>11113264</td><td>0.43</td></tr>\n",
       "</tbody>\n",
       "</table>\n"
      ],
      "text/latex": [
       "A matrix: 7 × 10 of type chr\n",
       "\\begin{tabular}{r|llllllllll}\n",
       "  & nome\\_modelo & mae & mdae & mse & rae & rmse & rrse & rse & sse & rsq\\\\\n",
       "\\hline\n",
       "\tmetricas & modelo\\_rlin1 & 60.7  & 49.63 & 6124.44 & 0.79 & 78.26 & 0.8  & 0.64 & 12414243 & 0.36\\\\\n",
       "\tmetricas\\_do\\_modelo & modelo\\_rlin2 & 60.66 & 49.81 & 6129.86 & 0.79 & 78.29 & 0.8  & 0.64 & 12425227 & 0.36\\\\\n",
       "\tmetricas\\_do\\_modelo & modelo\\_tree1 & 61.02 & 50.85 & 6104.25 & 0.8  & 78.13 & 0.8  & 0.64 & 12373320 & 0.37\\\\\n",
       "\tmetricas\\_do\\_modelo & modelo\\_tree2 & 59.21 & 48.7  & 5797.14 & 0.77 & 76.14 & 0.78 & 0.61 & 11750801 & 0.4 \\\\\n",
       "\tmetricas\\_do\\_modelo & modelo\\_rf    & 58.54 & 49.61 & 5597.62 & 0.77 & 74.82 & 0.76 & 0.58 & 11346369 & 0.42\\\\\n",
       "\tmetricas\\_do\\_modelo & modelo\\_xgb1  & 61.48 & 50.27 & 6188.88 & 0.8  & 78.67 & 0.8  & 0.65 & 12544853 & 0.38\\\\\n",
       "\tmetricas\\_do\\_modelo & modelo\\_xgb2  & 57.83 & 47.79 & 5482.62 & 0.76 & 74.04 & 0.76 & 0.57 & 11113264 & 0.43\\\\\n",
       "\\end{tabular}\n"
      ],
      "text/markdown": [
       "\n",
       "A matrix: 7 × 10 of type chr\n",
       "\n",
       "| <!--/--> | nome_modelo | mae | mdae | mse | rae | rmse | rrse | rse | sse | rsq |\n",
       "|---|---|---|---|---|---|---|---|---|---|---|\n",
       "| metricas | modelo_rlin1 | 60.7  | 49.63 | 6124.44 | 0.79 | 78.26 | 0.8  | 0.64 | 12414243 | 0.36 |\n",
       "| metricas_do_modelo | modelo_rlin2 | 60.66 | 49.81 | 6129.86 | 0.79 | 78.29 | 0.8  | 0.64 | 12425227 | 0.36 |\n",
       "| metricas_do_modelo | modelo_tree1 | 61.02 | 50.85 | 6104.25 | 0.8  | 78.13 | 0.8  | 0.64 | 12373320 | 0.37 |\n",
       "| metricas_do_modelo | modelo_tree2 | 59.21 | 48.7  | 5797.14 | 0.77 | 76.14 | 0.78 | 0.61 | 11750801 | 0.4  |\n",
       "| metricas_do_modelo | modelo_rf    | 58.54 | 49.61 | 5597.62 | 0.77 | 74.82 | 0.76 | 0.58 | 11346369 | 0.42 |\n",
       "| metricas_do_modelo | modelo_xgb1  | 61.48 | 50.27 | 6188.88 | 0.8  | 78.67 | 0.8  | 0.65 | 12544853 | 0.38 |\n",
       "| metricas_do_modelo | modelo_xgb2  | 57.83 | 47.79 | 5482.62 | 0.76 | 74.04 | 0.76 | 0.57 | 11113264 | 0.43 |\n",
       "\n"
      ],
      "text/plain": [
       "                   nome_modelo  mae   mdae  mse     rae  rmse  rrse rse \n",
       "metricas           modelo_rlin1 60.7  49.63 6124.44 0.79 78.26 0.8  0.64\n",
       "metricas_do_modelo modelo_rlin2 60.66 49.81 6129.86 0.79 78.29 0.8  0.64\n",
       "metricas_do_modelo modelo_tree1 61.02 50.85 6104.25 0.8  78.13 0.8  0.64\n",
       "metricas_do_modelo modelo_tree2 59.21 48.7  5797.14 0.77 76.14 0.78 0.61\n",
       "metricas_do_modelo modelo_rf    58.54 49.61 5597.62 0.77 74.82 0.76 0.58\n",
       "metricas_do_modelo modelo_xgb1  61.48 50.27 6188.88 0.8  78.67 0.8  0.65\n",
       "metricas_do_modelo modelo_xgb2  57.83 47.79 5482.62 0.76 74.04 0.76 0.57\n",
       "                   sse      rsq \n",
       "metricas           12414243 0.36\n",
       "metricas_do_modelo 12425227 0.36\n",
       "metricas_do_modelo 12373320 0.37\n",
       "metricas_do_modelo 11750801 0.4 \n",
       "metricas_do_modelo 11346369 0.42\n",
       "metricas_do_modelo 12544853 0.38\n",
       "metricas_do_modelo 11113264 0.43"
      ]
     },
     "metadata": {},
     "output_type": "display_data"
    }
   ],
   "source": [
    "# Parâmetros\n",
    "param = list(\"objective\" = \"reg:gamma\")\n",
    "\n",
    "# Separando dados para treino e dados da variável target\n",
    "data = as.matrix(notas_train[1:9]) \n",
    "label = notas_train[[10]]\n",
    "xgmat = xgb.DMatrix(data, label = label)\n",
    "modelo_xgb2 = xgboost(data = xgmat, nround = 37, params = param ,verbose = FALSE)\n",
    "data = as.matrix(notas_valid)\n",
    "xgmat = xgb.DMatrix(data)\n",
    "ypred = predict(modelo_xgb2, xgmat)\n",
    "calcula_metricas(\"modelo_xgb2\", target_valid, ypred)\n",
    "metricas"
   ]
  },
  {
   "cell_type": "code",
   "execution_count": 251,
   "metadata": {},
   "outputs": [
    {
     "data": {
      "image/png": "[encoded data removed]",
      "text/plain": [
       "plot without title"
      ]
     },
     "metadata": {
      "image/png": {
       "height": 420,
       "width": 720
      },
      "text/plain": {
       "height": 420,
       "width": 720
      }
     },
     "output_type": "display_data"
    }
   ],
   "source": [
    "# Plot dos resultados\n",
    "options(repr.plot.width=12, repr.plot.height=7)\n",
    "predicted = as.data.frame(ypred)\n",
    "actual = as.data.frame(target_valid)\n",
    "\n",
    "g6 = ggplot() + \n",
    "    geom_histogram(data = actual, aes(x = target_valid),  fill = \"darkgray\", alpha = 01, bins = 50) +\n",
    "    geom_histogram(data = predicted, aes(x = ypred),  fill = \"blue\", alpha = 0.5, bins = 50) +\n",
    "    ggtitle(\"XGBoost 2\") + theme(plot.title = element_text(hjust = 0.5))+\n",
    "    xlab(\"Nota Obtida\") + ylab(\"Contagem das notas\")\n",
    "\n",
    "g6"
   ]
  },
  {
   "cell_type": "markdown",
   "metadata": {},
   "source": [
    "## **Comparação dos modelos**\n",
    "\n",
    "\n",
    "**Histogramas**\n",
    "\n",
    "Pelos modelos acima, percebemos que o random forest é muito melhor em termos de precisão, mas quanto isso significa? Podemos fazer uma comparação gráfica para visualizarmos isso. \n",
    "\n",
    "Abaixo podemos ver como os histogramas dos modelos (azul) ficaram em comparação com os dados target (cinza) e em comparação com os outros modelos.  "
   ]
  },
  {
   "cell_type": "code",
   "execution_count": 244,
   "metadata": {
    "scrolled": false
   },
   "outputs": [
    {
     "data": {
      "image/png": "[encoded data removed]",
      "text/plain": [
       "plot without title"
      ]
     },
     "metadata": {
      "image/png": {
       "height": 420,
       "width": 720
      },
      "text/plain": {
       "height": 420,
       "width": 720
      }
     },
     "output_type": "display_data"
    }
   ],
   "source": [
    "grid.arrange(g1 + xlab(NULL) + ylab(NULL), \n",
    "             g2 + xlab(NULL) + ylab(NULL), \n",
    "             g3 + xlab(NULL) + ylab(NULL), \n",
    "             g4 + xlab(NULL) + ylab(NULL),\n",
    "             g5 + xlab(NULL) + ylab(NULL),\n",
    "             g6 + xlab(NULL) + ylab(NULL),\n",
    "             ncol = 3)"
   ]
  },
  {
   "cell_type": "markdown",
   "metadata": {},
   "source": [
    "**Métricas de desempenho**\n",
    "\n",
    "Temos o dataframe de métricas abaixo, que nos confirma o melhor desempenho dos resultados do Random Forest. Porém, além de serem muitas métricas (não havia a necessidade de tantas), não é possível identificar o melhor modelo de imediato, podemos fazer isso graficamente também. Para isso, vou reduzir a quantidade de métricas pegando apenas as mais usuárias: `mae`, `rmse` e `rsq`."
   ]
  },
  {
   "cell_type": "code",
   "execution_count": 276,
   "metadata": {},
   "outputs": [
    {
     "data": {
      "text/html": [
       "<table>\n",
       "<caption>A data.frame: 7 × 10</caption>\n",
       "<thead>\n",
       "\t<tr><th scope=col>nome_modelo</th><th scope=col>mae</th><th scope=col>mdae</th><th scope=col>mse</th><th scope=col>rae</th><th scope=col>rmse</th><th scope=col>rrse</th><th scope=col>rse</th><th scope=col>sse</th><th scope=col>rsq</th></tr>\n",
       "\t<tr><th scope=col>&lt;chr&gt;</th><th scope=col>&lt;dbl&gt;</th><th scope=col>&lt;dbl&gt;</th><th scope=col>&lt;dbl&gt;</th><th scope=col>&lt;dbl&gt;</th><th scope=col>&lt;dbl&gt;</th><th scope=col>&lt;dbl&gt;</th><th scope=col>&lt;dbl&gt;</th><th scope=col>&lt;dbl&gt;</th><th scope=col>&lt;dbl&gt;</th></tr>\n",
       "</thead>\n",
       "<tbody>\n",
       "\t<tr><td>modelo_rlin1</td><td>60.70</td><td>49.63</td><td>6124.44</td><td>0.79</td><td>78.26</td><td>0.80</td><td>0.64</td><td>12414243</td><td>0.36</td></tr>\n",
       "\t<tr><td>modelo_rlin2</td><td>60.66</td><td>49.81</td><td>6129.86</td><td>0.79</td><td>78.29</td><td>0.80</td><td>0.64</td><td>12425227</td><td>0.36</td></tr>\n",
       "\t<tr><td>modelo_tree1</td><td>61.02</td><td>50.85</td><td>6104.25</td><td>0.80</td><td>78.13</td><td>0.80</td><td>0.64</td><td>12373320</td><td>0.37</td></tr>\n",
       "\t<tr><td>modelo_tree2</td><td>59.21</td><td>48.70</td><td>5797.14</td><td>0.77</td><td>76.14</td><td>0.78</td><td>0.61</td><td>11750801</td><td>0.40</td></tr>\n",
       "\t<tr><td>modelo_rf   </td><td>58.54</td><td>49.61</td><td>5597.62</td><td>0.77</td><td>74.82</td><td>0.76</td><td>0.58</td><td>11346369</td><td>0.42</td></tr>\n",
       "\t<tr><td>modelo_xgb1 </td><td>61.48</td><td>50.27</td><td>6188.88</td><td>0.80</td><td>78.67</td><td>0.80</td><td>0.65</td><td>12544853</td><td>0.38</td></tr>\n",
       "\t<tr><td>modelo_xgb2 </td><td>57.83</td><td>47.79</td><td>5482.62</td><td>0.76</td><td>74.04</td><td>0.76</td><td>0.57</td><td>11113264</td><td>0.43</td></tr>\n",
       "</tbody>\n",
       "</table>\n"
      ],
      "text/latex": [
       "A data.frame: 7 × 10\n",
       "\\begin{tabular}{llllllllll}\n",
       " nome\\_modelo & mae & mdae & mse & rae & rmse & rrse & rse & sse & rsq\\\\\n",
       " <chr> & <dbl> & <dbl> & <dbl> & <dbl> & <dbl> & <dbl> & <dbl> & <dbl> & <dbl>\\\\\n",
       "\\hline\n",
       "\t modelo\\_rlin1 & 60.70 & 49.63 & 6124.44 & 0.79 & 78.26 & 0.80 & 0.64 & 12414243 & 0.36\\\\\n",
       "\t modelo\\_rlin2 & 60.66 & 49.81 & 6129.86 & 0.79 & 78.29 & 0.80 & 0.64 & 12425227 & 0.36\\\\\n",
       "\t modelo\\_tree1 & 61.02 & 50.85 & 6104.25 & 0.80 & 78.13 & 0.80 & 0.64 & 12373320 & 0.37\\\\\n",
       "\t modelo\\_tree2 & 59.21 & 48.70 & 5797.14 & 0.77 & 76.14 & 0.78 & 0.61 & 11750801 & 0.40\\\\\n",
       "\t modelo\\_rf    & 58.54 & 49.61 & 5597.62 & 0.77 & 74.82 & 0.76 & 0.58 & 11346369 & 0.42\\\\\n",
       "\t modelo\\_xgb1  & 61.48 & 50.27 & 6188.88 & 0.80 & 78.67 & 0.80 & 0.65 & 12544853 & 0.38\\\\\n",
       "\t modelo\\_xgb2  & 57.83 & 47.79 & 5482.62 & 0.76 & 74.04 & 0.76 & 0.57 & 11113264 & 0.43\\\\\n",
       "\\end{tabular}\n"
      ],
      "text/markdown": [
       "\n",
       "A data.frame: 7 × 10\n",
       "\n",
       "| nome_modelo &lt;chr&gt; | mae &lt;dbl&gt; | mdae &lt;dbl&gt; | mse &lt;dbl&gt; | rae &lt;dbl&gt; | rmse &lt;dbl&gt; | rrse &lt;dbl&gt; | rse &lt;dbl&gt; | sse &lt;dbl&gt; | rsq &lt;dbl&gt; |\n",
       "|---|---|---|---|---|---|---|---|---|---|\n",
       "| modelo_rlin1 | 60.70 | 49.63 | 6124.44 | 0.79 | 78.26 | 0.80 | 0.64 | 12414243 | 0.36 |\n",
       "| modelo_rlin2 | 60.66 | 49.81 | 6129.86 | 0.79 | 78.29 | 0.80 | 0.64 | 12425227 | 0.36 |\n",
       "| modelo_tree1 | 61.02 | 50.85 | 6104.25 | 0.80 | 78.13 | 0.80 | 0.64 | 12373320 | 0.37 |\n",
       "| modelo_tree2 | 59.21 | 48.70 | 5797.14 | 0.77 | 76.14 | 0.78 | 0.61 | 11750801 | 0.40 |\n",
       "| modelo_rf    | 58.54 | 49.61 | 5597.62 | 0.77 | 74.82 | 0.76 | 0.58 | 11346369 | 0.42 |\n",
       "| modelo_xgb1  | 61.48 | 50.27 | 6188.88 | 0.80 | 78.67 | 0.80 | 0.65 | 12544853 | 0.38 |\n",
       "| modelo_xgb2  | 57.83 | 47.79 | 5482.62 | 0.76 | 74.04 | 0.76 | 0.57 | 11113264 | 0.43 |\n",
       "\n"
      ],
      "text/plain": [
       "  nome_modelo  mae   mdae  mse     rae  rmse  rrse rse  sse      rsq \n",
       "1 modelo_rlin1 60.70 49.63 6124.44 0.79 78.26 0.80 0.64 12414243 0.36\n",
       "2 modelo_rlin2 60.66 49.81 6129.86 0.79 78.29 0.80 0.64 12425227 0.36\n",
       "3 modelo_tree1 61.02 50.85 6104.25 0.80 78.13 0.80 0.64 12373320 0.37\n",
       "4 modelo_tree2 59.21 48.70 5797.14 0.77 76.14 0.78 0.61 11750801 0.40\n",
       "5 modelo_rf    58.54 49.61 5597.62 0.77 74.82 0.76 0.58 11346369 0.42\n",
       "6 modelo_xgb1  61.48 50.27 6188.88 0.80 78.67 0.80 0.65 12544853 0.38\n",
       "7 modelo_xgb2  57.83 47.79 5482.62 0.76 74.04 0.76 0.57 11113264 0.43"
      ]
     },
     "metadata": {},
     "output_type": "display_data"
    }
   ],
   "source": [
    "# Passos para transformação de matriz para dataframe \n",
    "options(digits=10) \n",
    "m1 = as.data.frame(metricas, stringsAsFactors = FALSE) \n",
    "m2 = as.data.frame(sapply(m1[,2:10], as.numeric))\n",
    "m3 = add_column(m2, m1[,1], .before = \"mae\")\n",
    "colnames(m3)[1] = \"nome_modelo\"\n",
    "rownames(m3) = NULL\n",
    "metricas_df = m3\n",
    "metricas_df"
   ]
  },
  {
   "cell_type": "code",
   "execution_count": 279,
   "metadata": {},
   "outputs": [
    {
     "data": {
      "image/png": "[encoded data removed]",
      "text/plain": [
       "plot without title"
      ]
     },
     "metadata": {
      "image/png": {
       "height": 540,
       "width": 720
      },
      "text/plain": {
       "height": 540,
       "width": 720
      }
     },
     "output_type": "display_data"
    }
   ],
   "source": [
    "options(repr.plot.width=12, repr.plot.height=9)\n",
    "g6 = ggplot(metricas_df, aes(x = nome_modelo)) +\n",
    "        geom_col(aes(y = mae, fill = nome_modelo)) + scale_fill_brewer(palette=\"Set3\") + xlab(NULL) + ylab(NULL) +\n",
    "        theme(legend.position = \"none\", plot.title = element_text(hjust = 0.5)) + ggtitle(\"Mean Absolute Error (MAE)\")+\n",
    "        coord_cartesian(ylim = c(57, 63)) \n",
    "\n",
    "g7 = ggplot(metricas_df, aes(x = nome_modelo)) +\n",
    "       geom_col(aes(y = rmse, fill = nome_modelo)) + scale_fill_brewer(palette=\"Set3\") + xlab(NULL) + ylab(NULL) +\n",
    "       theme(legend.position = \"none\", plot.title = element_text(hjust = 0.5)) + ggtitle(\"Root Mean Squared Error (RMSE) \")+\n",
    "        coord_cartesian(ylim = c(74, 80)) \n",
    "\n",
    "g8 = ggplot(metricas_df, aes(x = nome_modelo)) +\n",
    "       geom_col(aes(y = rsq, fill = nome_modelo)) + scale_fill_brewer(palette=\"Set3\") + xlab(NULL) + ylab(NULL) +\n",
    "       theme(legend.position = \"none\", plot.title = element_text(hjust = 0.5)) + ggtitle(\"R-Squared (RSQ)\")+\n",
    "        coord_cartesian(ylim = c(0.35, 0.45)) \n",
    "\n",
    "grid.arrange(g6, g7, g8, nrow = 3 )"
   ]
  },
  {
   "cell_type": "markdown",
   "metadata": {},
   "source": [
    "Os gráficos acima mostram que o Random Forest teve um desempenho melhor em comparação com os outros modelos. \n",
    "\n",
    "O `mae` é a média de todos os erros absolutos. Ou seja, é a soma da diferença de cada valor `actual` menos o seu respectivo valor `predicted` (valores absolutos), dividido pelo número total de elementos. Sendo assim, é uma forma de se medir o erro e quanto menor o erro, melhor o modelo. Pelo gráfico  percebemos que o Random Forest teve o menor erro, seguido pela decision tree. Já o modelo com pior desempenho foi o xgboost.\n",
    "\n",
    "O `rmse` é a raiz quadrada da média dos erros ao quadrado. Também é uma medida de erro e segue um padrão semelhante ao `mae`.\n",
    "\n",
    "O `rsq`, também chamado de coeficiente de determinação, é uma medida estatística de quão próximos os dados estão da linha de regressão ajustada, é a porcentagem da variação da variável resposta que é explicada por um modelo e vai de 0 à 1. Sendo assim, é uma medida de acurácia, e quanto maior o valor, melhor o modelo. No caso, novamente, O modelo do Random Forest se mostrou-se melhor, seguido pela Decision tree e pelo XGBoost."
   ]
  },
  {
   "cell_type": "markdown",
   "metadata": {},
   "source": [
    "## **Conclusão**\n",
    "\n",
    "Como o modelo será julgado pela sua precisão, utilizarei o Random Forest para gerar os resultados do desafio da Codenation. Ainda assim, irei investir um pouco mais em entender os parâmetros do XGBoost, pois ele é muito mais eficiente em termos de velocidade e dá uma precisão considerável somento com os parâmetros default.\n",
    "\n",
    "Sendo assim:\n",
    "\n",
    "**Salvando resposta**"
   ]
  },
  {
   "cell_type": "code",
   "execution_count": 254,
   "metadata": {},
   "outputs": [],
   "source": [
    "# Separando dados para treino e dados da variável target\n",
    "data = as.matrix(notas_test) \n",
    "xgmat = xgb.DMatrix(data)\n",
    "ypred = predict(modelo_xgb2, xgmat)\n",
    "\n",
    "# Chamando o modelo Random Forest para os dados de teste\n",
    "ypred = predict(modelo_xgb2, xgmat)\n",
    "predicted = as.data.frame(ypred)"
   ]
  },
  {
   "cell_type": "code",
   "execution_count": 255,
   "metadata": {},
   "outputs": [],
   "source": [
    "# Separar teste em 2 datasets\n",
    "resposta_0 = data_test0[1] # Numero de inscrição dos alunos faltantes e eliminados\n",
    "resposta_0$NU_NOTA_MT = 0\n",
    "resposta_1 = id_test\n",
    "resposta_1$NU_NOTA_MT = predicted$ypred\n",
    "\n",
    "# Resposta final\n",
    "options(digits = 5)\n",
    "resposta = rbind(resposta_0, resposta_1)\n",
    "resposta = resposta[order(as.numeric(rownames(resposta))),,drop=FALSE]\n",
    "write_csv(resposta, \"./data/answer.csv\")"
   ]
  }
 ],
 "metadata": {
  "kernelspec": {
   "display_name": "R",
   "language": "R",
   "name": "ir"
  },
  "language_info": {
   "codemirror_mode": "r",
   "file_extension": ".r",
   "mimetype": "text/x-r-source",
   "name": "R",
   "pygments_lexer": "r",
   "version": "3.6.3"
  }
 },
 "nbformat": 4,
 "nbformat_minor": 4
}
